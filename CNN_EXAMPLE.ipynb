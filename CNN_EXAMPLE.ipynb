{
  "nbformat": 4,
  "nbformat_minor": 0,
  "metadata": {
    "colab": {
      "provenance": [],
      "gpuType": "T4",
      "include_colab_link": true
    },
    "kernelspec": {
      "name": "python3",
      "display_name": "Python 3"
    },
    "language_info": {
      "name": "python"
    },
    "accelerator": "GPU"
  },
  "cells": [
    {
      "cell_type": "markdown",
      "metadata": {
        "id": "view-in-github",
        "colab_type": "text"
      },
      "source": [
        "<a href=\"https://colab.research.google.com/github/AverYuchen/DeepLearning/blob/main/CNN_EXAMPLE.ipynb\" target=\"_parent\"><img src=\"https://colab.research.google.com/assets/colab-badge.svg\" alt=\"Open In Colab\"/></a>"
      ]
    },
    {
      "cell_type": "markdown",
      "source": [
        "# CNNs in PyTorch\n",
        "\n",
        "In this assignment, you'll implement some Convolutional Neural Networks (CNNs) in PyTorch."
      ],
      "metadata": {
        "id": "AV9LBf4nBDg_"
      }
    },
    {
      "cell_type": "markdown",
      "source": [
        "## Setting up\n",
        "\n",
        "We'll start by importing the following:\n",
        "- [`torch`](https://pytorch.org/docs/stable/torch.html) - the core PyTorch library.\n",
        "- [`torch.nn`](https://pytorch.org/docs/stable/nn.html) - a module containing building blocks for NNs such as linear layers, convolutional layers, and so on.\n",
        "- [`torch.nn.functional`](https://pytorch.org/docs/stable/nn.functional.html) - a module containing activation functions, loss functions, and so on.\n",
        "- [`torch.optim`](https://pytorch.org/docs/stable/optim.html) - a module containing optimizers which update the parameters of a NN.\n",
        "- [`DataLoader`](https://pytorch.org/docs/stable/data.html#torch.utils.data.DataLoader) in [`torch.utils.data`](https://pytorch.org/docs/stable/data.html) - Can be used to batch data together and iterate over batches, shuffle data, and parallelize the training process to speed it up.\n",
        "- [`MNIST`](https://pytorch.org/vision/stable/generated/torchvision.datasets.MNIST.html) in [`torchvision.datasets`](https://pytorch.org/vision/stable/datasets.html) - The [MNIST dataset](https://en.wikipedia.org/wiki/MNIST_database) is a collection of images of handwritten digits.\n",
        "- [`ToTensor`](https://pytorch.org/vision/stable/generated/torchvision.transforms.ToTensor.html#torchvision.transforms.ToTensor) in [`torchvision.transforms`](https://pytorch.org/vision/0.9/transforms.html) - Converts PIL images or NumPy arrays to PyTorch tensors."
      ],
      "metadata": {
        "id": "ppx9vYd7U9fu"
      }
    },
    {
      "cell_type": "code",
      "source": [
        "# imports\n",
        "import torch\n",
        "import torch.nn as nn\n",
        "import torch.nn.functional as F\n",
        "import torch.optim as optim\n",
        "from torch.utils.data import DataLoader\n",
        "\n",
        "from torchvision.datasets import CIFAR10, MNIST\n",
        "from torchvision.transforms.v2 import ToTensor\n",
        "from torchvision import datasets, transforms"
      ],
      "metadata": {
        "id": "l74HSkVDtdzo"
      },
      "execution_count": 1,
      "outputs": []
    },
    {
      "cell_type": "markdown",
      "source": [
        "## Data\n",
        "\n",
        "Let's define a transformation for the [CIFAR10 dataset](https://en.wikipedia.org/wiki/CIFAR-10).\n",
        "\n",
        "We'll first cast the images to PyTorch tensors using [`transforms.ToTensor()`](https://pytorch.org/vision/master/generated/torchvision.transforms.ToTensor.html). These tensors are automatically normalized such that their values are between 0 and 1.\n",
        "\n",
        "Then, we'll re-normalize the pixel values with [`transforms.Normalize()`](https://pytorch.org/vision/main/generated/torchvision.transforms.Normalize.html) to conform approximately to a standard normal distribution, assuming the mean and standard deviation of any channel of the returned tensor to be 0.5. This is not an unreasonable assumption. It's also a fairly standard thing to do to squash inputs to be in (or close to) the range [-1,1], which is where neural networks work best in terms of converging when performing optimization."
      ],
      "metadata": {
        "id": "pmcSEpkOcA6p"
      }
    },
    {
      "cell_type": "code",
      "source": [
        "# CIFAR-10 transform - three channels, normalize with 3 means and 3 SDs\n",
        "cifar_transform = transforms.Compose([\n",
        "    transforms.ToTensor(),\n",
        "    transforms.Normalize([0.5, 0.5, 0.5], [0.5, 0.5, 0.5])\n",
        "])\n",
        "\n",
        "# MNIST transform - single channel, so only 1 mean and 1 SD\n",
        "mnist_transform = transforms.Compose([\n",
        "    transforms.ToTensor(),\n",
        "    transforms.Normalize((0.1308,), (0.3016,))\n",
        "])"
      ],
      "metadata": {
        "id": "OjvbG0f7hF3N"
      },
      "execution_count": 2,
      "outputs": []
    },
    {
      "cell_type": "markdown",
      "source": [
        "Let's load up the CIFAR-10 dataset. You can specify the split you want using `train=True|False`. `root` is the directory where the dataset will be saved. You can also directly apply the transform from the previous cell by specifying `transform`."
      ],
      "metadata": {
        "id": "8RI612Kn8jUX"
      }
    },
    {
      "cell_type": "code",
      "source": [
        "from torch.utils.data import random_split\n",
        "# CIFAR10 data\n",
        "train_dataset = CIFAR10(\n",
        "    root='./data',\n",
        "    train=True,\n",
        "    download=True,\n",
        "    transform=cifar_transform\n",
        ")\n",
        "val_dataset = CIFAR10(\n",
        "    root='./data',\n",
        "    train=False,\n",
        "    download=True,\n",
        "    transform=cifar_transform\n",
        ")\n",
        "'''\n",
        "test_dataset = CIFAR10(\n",
        "    root='./data',\n",
        "    train=False,\n",
        "    download=True,\n",
        "    transform=cifar_transform\n",
        ")\n",
        "\n",
        "\n",
        "val_size = 5000\n",
        "test_size = len(test_dataset) - val_size\n",
        "val_dataset, test_dataset = random_split(test_dataset, [val_size, test_size])\n",
        "'''"
      ],
      "metadata": {
        "id": "Ob7JPEEabfTR",
        "colab": {
          "base_uri": "https://localhost:8080/",
          "height": 86
        },
        "outputId": "e708b244-b781-4458-90e9-a070b2f84077"
      },
      "execution_count": 60,
      "outputs": [
        {
          "output_type": "stream",
          "name": "stdout",
          "text": [
            "Files already downloaded and verified\n",
            "Files already downloaded and verified\n"
          ]
        },
        {
          "output_type": "execute_result",
          "data": {
            "text/plain": [
              "\"\\ntest_dataset = CIFAR10(\\n    root='./data',\\n    train=False,\\n    download=True,\\n    transform=cifar_transform\\n)\\n\\n\\nval_size = 5000  \\ntest_size = len(test_dataset) - val_size\\nval_dataset, test_dataset = random_split(test_dataset, [val_size, test_size])\\n\""
            ],
            "application/vnd.google.colaboratory.intrinsic+json": {
              "type": "string"
            }
          },
          "metadata": {},
          "execution_count": 60
        }
      ]
    },
    {
      "cell_type": "markdown",
      "source": [
        "Let's define `DataLoader` objects for the CIFAR10 data now.\n",
        "\n",
        "We'll use a (mini) batch size of 32. It's common to use powers of 2 in deep learning because it's more efficient to handle such numbers on hardware.\n",
        "\n",
        "We'll define separate `DataLoader` objects to handle our training and test splits to avoid data leakage (training on the test set or testing on the train set).\n",
        "\n",
        "We'll also have the `DataLoader` objects shuffle our data whenever we iterate over them (`shuffle=True`). Shuffling data at each epoch is beneficial in that the model won't be optimized in a way that depends on a specific ordering of the data.\n",
        "\n",
        "Finally, we'll parallelize the loading of the data using 4 CPU processes to load data (`num_workers=4`)."
      ],
      "metadata": {
        "id": "lb2XIf19cnsq"
      }
    },
    {
      "cell_type": "code",
      "source": [
        "# dataloaders\n",
        "batch_size = 32\n",
        "\n",
        "train_loader = DataLoader(\n",
        "    train_dataset,\n",
        "    batch_size=batch_size,\n",
        "    shuffle=True,\n",
        "    num_workers=4\n",
        ")\n",
        "\n",
        "val_loader = DataLoader(\n",
        "    val_dataset,\n",
        "    batch_size=batch_size,\n",
        "    shuffle=True,\n",
        "    num_workers=4\n",
        ")\n",
        "\n",
        "'''\n",
        "test_loader = DataLoader(\n",
        "    test_dataset,\n",
        "    batch_size=batch_size,\n",
        "    shuffle=True,\n",
        "    num_workers=4\n",
        ")\n",
        "'''"
      ],
      "metadata": {
        "id": "93SCDUnGji8m",
        "colab": {
          "base_uri": "https://localhost:8080/",
          "height": 35
        },
        "outputId": "11266569-3dd3-4987-c150-e70f90691406"
      },
      "execution_count": 61,
      "outputs": [
        {
          "output_type": "execute_result",
          "data": {
            "text/plain": [
              "'\\ntest_loader = DataLoader(\\n    test_dataset,\\n    batch_size=batch_size,\\n    shuffle=True,\\n    num_workers=4\\n)\\n'"
            ],
            "application/vnd.google.colaboratory.intrinsic+json": {
              "type": "string"
            }
          },
          "metadata": {},
          "execution_count": 61
        }
      ]
    },
    {
      "cell_type": "markdown",
      "source": [
        "## Defining and training CNNs\n",
        "\n",
        "We'll define `criterion` to be [`nn.CrossEntropyLoss`](https://pytorch.org/docs/stable/generated/torch.nn.CrossEntropyLoss.html), a common loss function used to train classification models.\n",
        "\n",
        "We'll also define a Stochastic Gradient Descent optmizizer ([`optim.SGD`](https://pytorch.org/docs/stable/generated/torch.optim.SGD.html)), which will optimize the parameters of `net`. We'll set two hyperparameters manually: the learning rate (`lr=0.001`) and the momentum (`momentum=0.9`)."
      ],
      "metadata": {
        "id": "KZpzVZUjcJSi"
      }
    },
    {
      "cell_type": "code",
      "source": [
        "# Loss fuction and optimizer\n",
        "def get_crit_and_opt(net):\n",
        "    criterion = nn.CrossEntropyLoss()\n",
        "    optimizer = optim.SGD(net.parameters(), lr=0.001, momentum=0.9)\n",
        "    return criterion, optimizer"
      ],
      "metadata": {
        "id": "yNEwqv8rkQNM"
      },
      "execution_count": 5,
      "outputs": []
    },
    {
      "cell_type": "markdown",
      "source": [
        "Let's see how [LeNet5](https://ieeexplore.ieee.org/document/726791) (Lecun et al. 1998) is implemented. The architecture looks something like this:"
      ],
      "metadata": {
        "id": "f1kVjROgsGyF"
      }
    },
    {
      "cell_type": "markdown",
      "source": [
        "![](https://drive.google.com/uc?export=view&id=1PwYfmSXqBnosIQi-ewrr03Ibd_lmRtea)"
      ],
      "metadata": {
        "id": "R-mgpop1bcN7"
      }
    },
    {
      "cell_type": "markdown",
      "source": [
        "LeNet5 is compatible with the MNIST dataset. Let's see how to implement the architecture in PyTorch:"
      ],
      "metadata": {
        "id": "aAbXzjDJsrWb"
      }
    },
    {
      "cell_type": "code",
      "source": [
        "class LeNet(nn.Module):\n",
        "\n",
        "    def __init__(self):\n",
        "        super(LeNet, self).__init__()\n",
        "        # 1 input image channel, 6 output channels, 5x5 square convolution\n",
        "        self.conv1 = nn.Conv2d(1, 6, 5)\n",
        "        # 6 input channels to 16 output channels with 5x5 convolution\n",
        "        self.conv2 = nn.Conv2d(6, 16, 5)\n",
        "        # affine operations: y = Wx + b\n",
        "        self.fc1 = nn.Linear(16 * 5 * 5, 120) # 16 channels each of size 5x5 to 1x120 vector\n",
        "        self.fc2 = nn.Linear(120, 84) # 1x120 vector to 1x84 vector\n",
        "        self.fc3 = nn.Linear(84, 10) # 1x84 vector to 1x10 vector\n",
        "\n",
        "    def forward(self, x):\n",
        "        # average pooling over a 2x2 window\n",
        "        x = F.avg_pool2d(F.sigmoid(self.conv1(x)), (2, 2))\n",
        "        # If the size is a square, you can specify with a single number\n",
        "        x = F.avg_pool2d(F.sigmoid(self.conv2(x)), 2)\n",
        "        x = torch.flatten(x, 1) # flatten all dimensions except the batch dimension\n",
        "        x = F.sigmoid(self.fc1(x)) # linear + sig activation\n",
        "        x = F.sigmoid(self.fc2(x)) # linear + sig activation\n",
        "        x = self.fc3(x) # linear\n",
        "        return x"
      ],
      "metadata": {
        "id": "3wg7aZ5PFfem"
      },
      "execution_count": 6,
      "outputs": []
    },
    {
      "cell_type": "markdown",
      "source": [
        "In general, a PyTorch neural network definition must:\n",
        "- subclass [`nn.Module`](https://pytorch.org/docs/stable/generated/torch.nn.Module.html)\n",
        "- call `super().__init__()` in the constructor (`__init__()`) method\n",
        "- define the trainable parameters/layers (convolutions, linears, poolings, etc.) in the constructor\n",
        "- define what should happen to the inputs in the `forward()` method"
      ],
      "metadata": {
        "id": "9BxZoUpss4Pz"
      }
    },
    {
      "cell_type": "code",
      "source": [
        "# Create your own model for the MNIST data here [20 pts]:\n",
        "class CNN_Network1(nn.Module):\n",
        "\n",
        "  def __init__(self):\n",
        "    super(CNN_Network1, self).__init__()\n",
        "    self.conv1 = nn.Conv2d(1, 8, 5)\n",
        "    self.conv2 = nn.Conv2d(8, 22, 5)\n",
        "    self.fc1 = nn.Linear(22*5*5, 125)\n",
        "    self.fc2 = nn.Linear(125, 80)\n",
        "    self.fc3 = nn.Linear(80, 40)\n",
        "    self.fc4 = nn.Lienar(40, 10)\n",
        "  def forward(self, x):\n",
        "    x = F.avg_pool2d(F.sigmoid(self.conv1(x)), (2, 2))\n",
        "    # If the size is a square, you can specify with a single number\n",
        "    x = F.avg_pool2d(F.sigmoid(self.conv2(x)), 2)\n",
        "    x = torch.flatten(x, 1) # flatten all dimensions except the batch dimension\n",
        "    x = F.sigmoid(self.fc1(x)) # linear + sig activation\n",
        "    x = F.sigmoid(self.fc2(x)) # linear + sig activation\n",
        "    x = F.sigmoid(self.fc3(x)) # linear + sig activation\n",
        "    x = self.fc4(x) # linear + sig activation\n",
        "    return x"
      ],
      "metadata": {
        "id": "Wdp9RkPobRuC"
      },
      "execution_count": 54,
      "outputs": []
    },
    {
      "cell_type": "code",
      "source": [
        "# Create your own model for the CIFAR10 data here [20 pts]:\n",
        "class CNN_Network2(nn.Module):\n",
        "\n",
        "  def __init__(self):\n",
        "    super(CNN_Network2, self).__init__()\n",
        "    self.conv1 = nn.Conv2d(3, 6, 5)\n",
        "    self.pool = nn.MaxPool2d(2, 2)\n",
        "    self.conv2 = nn.Conv2d(6, 36, 5)\n",
        "    self.fc1 = nn.Linear(36 * 5 * 5, 180)\n",
        "    self.fc2 = nn.Linear(180, 120)\n",
        "    self.fc3 = nn.Linear(120, 84)\n",
        "    self.fc4 = nn.Linear(84, 10)\n",
        "  def forward(self, x):\n",
        "    x = self.pool(F.relu(self.conv1(x)))\n",
        "    x = self.pool(F.relu(self.conv2(x)))\n",
        "    x = x.view(-1, 36 * 5 * 5)\n",
        "    x = F.relu(self.fc1(x))\n",
        "    x = F.relu(self.fc2(x))\n",
        "    x = F.relu(self.fc3(x))\n",
        "    x = self.fc4(x)\n",
        "    return x"
      ],
      "metadata": {
        "id": "Z8GCyZDZ6iPv"
      },
      "execution_count": 52,
      "outputs": []
    },
    {
      "cell_type": "markdown",
      "source": [
        "Below is a useful object for tracking losses/performance during training and dev."
      ],
      "metadata": {
        "id": "pk8hMo_vxzhf"
      }
    },
    {
      "cell_type": "code",
      "source": [
        "class AverageMeter(object):\n",
        "\n",
        "    \"\"\"Computes and stores an average and current value.\"\"\"\n",
        "\n",
        "    def __init__(self):\n",
        "        self.reset()\n",
        "\n",
        "    def reset(self):\n",
        "        self.val = 0\n",
        "        self.avg = 0\n",
        "        self.sum = 0\n",
        "        self.count = 0\n",
        "\n",
        "    def update(self, val, n=1):\n",
        "        self.val = val\n",
        "        self.sum += val * n\n",
        "        self.count += n\n",
        "        self.avg = self.sum / self.count"
      ],
      "metadata": {
        "id": "ar5E7QTSw56k"
      },
      "execution_count": 11,
      "outputs": []
    },
    {
      "cell_type": "markdown",
      "source": [
        "We'll define an accuracy metric that flexibly computes top-k accuracies."
      ],
      "metadata": {
        "id": "Cq2ZTU4-19Hi"
      }
    },
    {
      "cell_type": "code",
      "source": [
        "def error_rate(output, target, topk=(1,)):\n",
        "\n",
        "    \"\"\"Computes the top-k error rate for the specified values of k.\"\"\"\n",
        "\n",
        "    maxk = max(topk) # largest k we'll need to work with\n",
        "    batch_size = target.size(0) # determine batch size\n",
        "\n",
        "    # get maxk best predictions for each item in the batch, both values and indices\n",
        "    _, pred = output.topk(maxk, 1, True, True)\n",
        "\n",
        "    # reshape predictions and targets and compare them element-wise\n",
        "    pred = pred.t()\n",
        "    correct = pred.eq(target.view(1, -1).expand_as(pred))\n",
        "\n",
        "    res = []\n",
        "    for k in topk: # for each top-k accuracy we want\n",
        "\n",
        "        # num correct\n",
        "        correct_k = correct[:k].reshape(-1).float().sum(0, keepdim=True)\n",
        "        # num incorrect\n",
        "        wrong_k = batch_size - correct_k\n",
        "        # as a percentage\n",
        "        res.append(wrong_k.mul_(100.0 / batch_size))\n",
        "\n",
        "    return res"
      ],
      "metadata": {
        "id": "er1n5plIlT86"
      },
      "execution_count": 12,
      "outputs": []
    },
    {
      "cell_type": "markdown",
      "source": [
        "If you connect to a runtime with a T4 available, this line will ensure computations that can be done on the T4 are done there."
      ],
      "metadata": {
        "id": "p15LFjPHx6Wd"
      }
    },
    {
      "cell_type": "code",
      "source": [
        "device = 'cuda' if torch.cuda.is_available() else 'cpu'"
      ],
      "metadata": {
        "id": "Xaru9TTXbAAG"
      },
      "execution_count": 13,
      "outputs": []
    },
    {
      "cell_type": "markdown",
      "source": [
        "The training function below takes the training set's `DataLoader`, the model we are training, the loss function we are using, and the optimizer for this model.\n",
        "\n",
        "It then trains the model on the data for 1 epoch."
      ],
      "metadata": {
        "id": "-8WU1ms3yszg"
      }
    },
    {
      "cell_type": "code",
      "source": [
        "# training function - 1 epoch\n",
        "def train(\n",
        "    train_loader,\n",
        "    model,\n",
        "    criterion,\n",
        "    optimizer,\n",
        "    epoch,\n",
        "    epochs,\n",
        "    print_freq = 100,\n",
        "    verbose = True\n",
        "):\n",
        "\n",
        "    # track average and worst losses\n",
        "    losses = AverageMeter()\n",
        "\n",
        "    # set training mode\n",
        "    model.train()\n",
        "\n",
        "    # iterate over data - automatically shuffled\n",
        "    for i, (images, labels) in enumerate(train_loader):\n",
        "\n",
        "        # put batch of image tensors on GPU\n",
        "        images = images.to(device)\n",
        "        # put batch of label tensors on GPU\n",
        "        labels = labels.to(device)\n",
        "\n",
        "        # zero the parameter gradients\n",
        "        optimizer.zero_grad()\n",
        "\n",
        "        # model output\n",
        "        outputs = model(images)\n",
        "\n",
        "        # loss computation\n",
        "        loss = criterion(outputs, labels)\n",
        "\n",
        "        # back propagation\n",
        "        loss.backward()\n",
        "\n",
        "        # update model parameters\n",
        "        optimizer.step()\n",
        "\n",
        "        # update meter with the value of the loss once for each item in the batch\n",
        "        losses.update(loss.item(), images.size(0))\n",
        "\n",
        "        # logging during epoch\n",
        "        if i % print_freq == 0 and verbose == True:\n",
        "            print(\n",
        "                f'Epoch: [{epoch+1}/{epochs}][{i:4}/{len(train_loader)}]\\t'\n",
        "                f'Loss: {losses.val:.4f} ({losses.avg:.4f} on avg)'\n",
        "            )\n",
        "\n",
        "    # log again at end of epoch\n",
        "    print(f'\\n* Epoch: [{epoch+1}/{epochs}]\\tTrain loss: {losses.avg:.3f}\\n')\n",
        "\n",
        "    return losses.avg"
      ],
      "metadata": {
        "id": "kFMDxaNDlRw0"
      },
      "execution_count": 14,
      "outputs": []
    },
    {
      "cell_type": "code",
      "source": [
        "# val function\n",
        "def validate(\n",
        "    val_loader,\n",
        "    model,\n",
        "    criterion,\n",
        "    epoch,\n",
        "    epochs,\n",
        "    print_freq = 100,\n",
        "    verbose = True\n",
        "):\n",
        "\n",
        "    # track average and worst losses and batch-wise top-1 and top-5 accuracies\n",
        "    losses = AverageMeter()\n",
        "    top1 = AverageMeter()\n",
        "    top5 = AverageMeter()\n",
        "\n",
        "    # set evaluation mode\n",
        "    model.eval()\n",
        "\n",
        "    # iterate over data - automatically shuffled\n",
        "    for i, (images, labels) in enumerate(val_loader):\n",
        "\n",
        "        # put batch of image tensors on GPU\n",
        "        images = images.to(device)\n",
        "        # put batch of label tensors on GPU\n",
        "        labels = labels.to(device)\n",
        "\n",
        "        # model output\n",
        "        output = model(images)\n",
        "\n",
        "        # loss computation\n",
        "        loss = criterion(output, labels)\n",
        "\n",
        "        # top-1 and top-5 accuracy on this batch\n",
        "        err1, err5, = error_rate(output.data, labels, topk=(1, 5))\n",
        "\n",
        "        # update meters with the value of the loss once for each item in the batch\n",
        "        losses.update(loss.item(), images.size(0))\n",
        "        # update meters with top-1 and top-5 accuracy on this batch once for each item in the batch\n",
        "        top1.update(err1.item(), images.size(0))\n",
        "        top5.update(err5.item(), images.size(0))\n",
        "\n",
        "        # logging during epoch\n",
        "        if i % print_freq == 0 and verbose == True:\n",
        "            print(\n",
        "                f'Test (on val set): [{epoch+1}/{epochs}][{i:4}/{len(val_loader)}]\\t'\n",
        "                f'Loss: {losses.val:.4f} ({losses.avg:.4f} on avg)\\t'\n",
        "                f'Top-1 err: {top1.val:.4f} ({top1.avg:.4f} on avg)\\t'\n",
        "                f'Top-5 err: {top5.val:.4f} ({top5.avg:.4f} on avg)'\n",
        "            )\n",
        "\n",
        "    # logging for end of epoch\n",
        "    print(\n",
        "        f'\\n* Epoch: [{epoch+1}/{epochs}]\\t'\n",
        "        f'Test loss: {losses.avg:.3f}\\t'\n",
        "        f'Top-1 err: {top1.avg:.3f}\\t'\n",
        "        f'Top-5 err: {top5.avg:.3f}\\n'\n",
        "    )\n",
        "\n",
        "    # avergae top-1 and top-5 accuracies batch-wise, and average loss batch-wise\n",
        "    return output, labels, top1.avg, top5.avg, losses.avg"
      ],
      "metadata": {
        "id": "DDJnoe7Pu5ez"
      },
      "execution_count": 63,
      "outputs": []
    },
    {
      "cell_type": "code",
      "source": [
        "# best error rates so far\n",
        "best_err1 = 100\n",
        "best_err5 = 100"
      ],
      "metadata": {
        "id": "AKwJjLLU11vg"
      },
      "execution_count": 16,
      "outputs": []
    },
    {
      "cell_type": "code",
      "source": [
        "# Run the main function.\n",
        "if __name__ == '__main__':\n",
        "\n",
        "    # select a model to train here\n",
        "    model = CNN_Network2()\n",
        "\n",
        "    # move to GPU\n",
        "    model.to(device)\n",
        "\n",
        "    # select number of epochs\n",
        "    epochs = 3\n",
        "\n",
        "    # get criterion and optimizer\n",
        "    criterion, optimizer = get_crit_and_opt(model)\n",
        "\n",
        "    # epoch loop\n",
        "    for epoch in range(0, epochs):\n",
        "\n",
        "        # train for one epoch\n",
        "        train_loss = train(\n",
        "          train_loader,\n",
        "          model,\n",
        "          criterion,\n",
        "          optimizer,\n",
        "          epoch,\n",
        "          epochs\n",
        "        )\n",
        "\n",
        "        # evaluate on validation set\n",
        "        predictions, labels, err1, err5, val_loss = validate(\n",
        "          val_loader,\n",
        "          model,\n",
        "          criterion,\n",
        "          epoch,\n",
        "          epochs\n",
        "        )\n",
        "\n",
        "        # remember best prec@1 and save checkpoint\n",
        "        is_best = err1 <= best_err1\n",
        "        best_err1 = min(err1, best_err1)\n",
        "        if is_best:\n",
        "            best_err5 = err5\n",
        "\n",
        "        print('Current best error rate (top-1 and top-5 error):', best_err1, best_err5, '\\n')\n",
        "    print('Best error rate (top-1 and top-5 error):', best_err1, best_err5)"
      ],
      "metadata": {
        "id": "hGxrBqkt0IsB",
        "colab": {
          "base_uri": "https://localhost:8080/"
        },
        "outputId": "3a6a9226-3525-4a55-d89d-b20fc4c737aa"
      },
      "execution_count": 64,
      "outputs": [
        {
          "output_type": "stream",
          "name": "stderr",
          "text": [
            "/usr/local/lib/python3.10/dist-packages/torch/utils/data/dataloader.py:557: UserWarning: This DataLoader will create 4 worker processes in total. Our suggested max number of worker in current system is 2, which is smaller than what this DataLoader is going to create. Please be aware that excessive worker creation might get DataLoader running slow or even freeze, lower the worker number to avoid potential slowness/freeze if necessary.\n",
            "  warnings.warn(_create_warning_msg(\n"
          ]
        },
        {
          "output_type": "stream",
          "name": "stdout",
          "text": [
            "Epoch: [1/3][   0/1563]\tLoss: 2.3031 (2.3031 on avg)\n",
            "Epoch: [1/3][ 100/1563]\tLoss: 2.2994 (2.3036 on avg)\n",
            "Epoch: [1/3][ 200/1563]\tLoss: 2.3085 (2.3034 on avg)\n",
            "Epoch: [1/3][ 300/1563]\tLoss: 2.2966 (2.3028 on avg)\n",
            "Epoch: [1/3][ 400/1563]\tLoss: 2.2932 (2.3024 on avg)\n",
            "Epoch: [1/3][ 500/1563]\tLoss: 2.3022 (2.3021 on avg)\n",
            "Epoch: [1/3][ 600/1563]\tLoss: 2.2968 (2.3017 on avg)\n",
            "Epoch: [1/3][ 700/1563]\tLoss: 2.3053 (2.3014 on avg)\n",
            "Epoch: [1/3][ 800/1563]\tLoss: 2.3037 (2.3011 on avg)\n",
            "Epoch: [1/3][ 900/1563]\tLoss: 2.3001 (2.3006 on avg)\n",
            "Epoch: [1/3][1000/1563]\tLoss: 2.2934 (2.3001 on avg)\n",
            "Epoch: [1/3][1100/1563]\tLoss: 2.2937 (2.2996 on avg)\n",
            "Epoch: [1/3][1200/1563]\tLoss: 2.2768 (2.2987 on avg)\n",
            "Epoch: [1/3][1300/1563]\tLoss: 2.2509 (2.2975 on avg)\n",
            "Epoch: [1/3][1400/1563]\tLoss: 2.2866 (2.2961 on avg)\n",
            "Epoch: [1/3][1500/1563]\tLoss: 2.2209 (2.2940 on avg)\n",
            "\n",
            "* Epoch: [1/3]\tTrain loss: 2.292\n",
            "\n",
            "Test (on val set): [1/3][   0/313]\tLoss: 2.2420 (2.2420 on avg)\tTop-1 err: 81.2500 (81.2500 on avg)\tTop-5 err: 28.1250 (28.1250 on avg)\n",
            "Test (on val set): [1/3][ 100/313]\tLoss: 2.2124 (2.2388 on avg)\tTop-1 err: 75.0000 (80.7550 on avg)\tTop-5 err: 25.0000 (28.0941 on avg)\n",
            "Test (on val set): [1/3][ 200/313]\tLoss: 2.2234 (2.2415 on avg)\tTop-1 err: 87.5000 (82.3383 on avg)\tTop-5 err: 25.0000 (28.8557 on avg)\n",
            "Test (on val set): [1/3][ 300/313]\tLoss: 2.2580 (2.2402 on avg)\tTop-1 err: 84.3750 (82.2882 on avg)\tTop-5 err: 15.6250 (28.8517 on avg)\n",
            "\n",
            "* Epoch: [1/3]\tTest loss: 2.240\tTop-1 err: 82.340\tTop-5 err: 28.810\n",
            "\n",
            "Current best error rate (top-1 and top-5 error): 55.56 8.6 \n",
            "\n",
            "Epoch: [2/3][   0/1563]\tLoss: 2.2264 (2.2264 on avg)\n",
            "Epoch: [2/3][ 100/1563]\tLoss: 2.2255 (2.2322 on avg)\n",
            "Epoch: [2/3][ 200/1563]\tLoss: 2.1806 (2.2178 on avg)\n",
            "Epoch: [2/3][ 300/1563]\tLoss: 2.1092 (2.1986 on avg)\n",
            "Epoch: [2/3][ 400/1563]\tLoss: 1.9869 (2.1818 on avg)\n",
            "Epoch: [2/3][ 500/1563]\tLoss: 1.8387 (2.1557 on avg)\n",
            "Epoch: [2/3][ 600/1563]\tLoss: 2.0908 (2.1381 on avg)\n",
            "Epoch: [2/3][ 700/1563]\tLoss: 1.9912 (2.1250 on avg)\n",
            "Epoch: [2/3][ 800/1563]\tLoss: 2.0738 (2.1098 on avg)\n",
            "Epoch: [2/3][ 900/1563]\tLoss: 2.2476 (2.0960 on avg)\n",
            "Epoch: [2/3][1000/1563]\tLoss: 1.9248 (2.0807 on avg)\n",
            "Epoch: [2/3][1100/1563]\tLoss: 2.2002 (2.0665 on avg)\n",
            "Epoch: [2/3][1200/1563]\tLoss: 1.5375 (2.0524 on avg)\n",
            "Epoch: [2/3][1300/1563]\tLoss: 1.7276 (2.0390 on avg)\n",
            "Epoch: [2/3][1400/1563]\tLoss: 1.8444 (2.0254 on avg)\n",
            "Epoch: [2/3][1500/1563]\tLoss: 2.2807 (2.0140 on avg)\n",
            "\n",
            "* Epoch: [2/3]\tTrain loss: 2.006\n",
            "\n",
            "Test (on val set): [2/3][   0/313]\tLoss: 1.5770 (1.5770 on avg)\tTop-1 err: 50.0000 (50.0000 on avg)\tTop-5 err: 6.2500 (6.2500 on avg)\n",
            "Test (on val set): [2/3][ 100/313]\tLoss: 2.1694 (1.8032 on avg)\tTop-1 err: 81.2500 (64.7896 on avg)\tTop-5 err: 31.2500 (13.9851 on avg)\n",
            "Test (on val set): [2/3][ 200/313]\tLoss: 1.6949 (1.8077 on avg)\tTop-1 err: 65.6250 (65.0498 on avg)\tTop-5 err: 6.2500 (13.9148 on avg)\n",
            "Test (on val set): [2/3][ 300/313]\tLoss: 1.8013 (1.8097 on avg)\tTop-1 err: 65.6250 (64.9190 on avg)\tTop-5 err: 9.3750 (14.0677 on avg)\n",
            "\n",
            "* Epoch: [2/3]\tTest loss: 1.810\tTop-1 err: 65.040\tTop-5 err: 14.130\n",
            "\n",
            "Current best error rate (top-1 and top-5 error): 55.56 8.6 \n",
            "\n",
            "Epoch: [3/3][   0/1563]\tLoss: 1.5931 (1.5931 on avg)\n",
            "Epoch: [3/3][ 100/1563]\tLoss: 1.8912 (1.8088 on avg)\n",
            "Epoch: [3/3][ 200/1563]\tLoss: 1.9681 (1.7986 on avg)\n",
            "Epoch: [3/3][ 300/1563]\tLoss: 1.8048 (1.7934 on avg)\n",
            "Epoch: [3/3][ 400/1563]\tLoss: 1.6815 (1.7805 on avg)\n",
            "Epoch: [3/3][ 500/1563]\tLoss: 1.8256 (1.7713 on avg)\n",
            "Epoch: [3/3][ 600/1563]\tLoss: 1.8189 (1.7647 on avg)\n",
            "Epoch: [3/3][ 700/1563]\tLoss: 1.9130 (1.7545 on avg)\n",
            "Epoch: [3/3][ 800/1563]\tLoss: 1.9234 (1.7446 on avg)\n",
            "Epoch: [3/3][ 900/1563]\tLoss: 1.4478 (1.7352 on avg)\n",
            "Epoch: [3/3][1000/1563]\tLoss: 1.7702 (1.7288 on avg)\n",
            "Epoch: [3/3][1100/1563]\tLoss: 1.6429 (1.7209 on avg)\n",
            "Epoch: [3/3][1200/1563]\tLoss: 1.8952 (1.7110 on avg)\n",
            "Epoch: [3/3][1300/1563]\tLoss: 1.6627 (1.7051 on avg)\n",
            "Epoch: [3/3][1400/1563]\tLoss: 1.7027 (1.6976 on avg)\n",
            "Epoch: [3/3][1500/1563]\tLoss: 1.4405 (1.6888 on avg)\n",
            "\n",
            "* Epoch: [3/3]\tTrain loss: 1.684\n",
            "\n",
            "Test (on val set): [3/3][   0/313]\tLoss: 1.7355 (1.7355 on avg)\tTop-1 err: 59.3750 (59.3750 on avg)\tTop-5 err: 21.8750 (21.8750 on avg)\n",
            "Test (on val set): [3/3][ 100/313]\tLoss: 1.5963 (1.5472 on avg)\tTop-1 err: 68.7500 (57.1163 on avg)\tTop-5 err: 3.1250 (9.0965 on avg)\n",
            "Test (on val set): [3/3][ 200/313]\tLoss: 1.3903 (1.5445 on avg)\tTop-1 err: 50.0000 (56.6853 on avg)\tTop-5 err: 3.1250 (8.5976 on avg)\n",
            "Test (on val set): [3/3][ 300/313]\tLoss: 1.5161 (1.5570 on avg)\tTop-1 err: 56.2500 (57.3816 on avg)\tTop-5 err: 12.5000 (8.9597 on avg)\n",
            "\n",
            "* Epoch: [3/3]\tTest loss: 1.557\tTop-1 err: 57.440\tTop-5 err: 8.870\n",
            "\n",
            "Current best error rate (top-1 and top-5 error): 55.56 8.6 \n",
            "\n",
            "Best error rate (top-1 and top-5 error): 55.56 8.6\n"
          ]
        }
      ]
    },
    {
      "cell_type": "markdown",
      "source": [
        "Create a SciKit-Learn [classification report](https://scikit-learn.org/stable/modules/generated/sklearn.metrics.classification_report.html) for one of your models.\n",
        "\n",
        "This report will show accuracy, classwise precision, recall, and F1, as well as averaged metrics over the classes."
      ],
      "metadata": {
        "id": "tl1xnaY-m1kX"
      }
    },
    {
      "cell_type": "code",
      "source": [
        "# Create a classification report for one model [10 pts]\n",
        "from sklearn.metrics import classification_report\n",
        "\n",
        "# get the true classes and model predictions for the test set for one model\n",
        "y_true = []\n",
        "y_pred = []\n",
        "target_names = ['plane', 'car', 'bird', 'cat', 'deer', 'dog', 'frog', 'horse', 'ship', 'truck']\n",
        "_, predicted = torch.max(predictions, 1)  # Get the class with the highest score\n",
        "\n",
        "# Move predictions and labels to CPU, then convert to NumPy arrays\n",
        "y_true.extend(labels.cpu().numpy())\n",
        "y_pred.extend(predicted.cpu().numpy())\n",
        "\n",
        "#target_names = string names of the classes\n",
        "classification_report(y_true, y_pred, target_names=target_names, zero_division=1)"
      ],
      "metadata": {
        "id": "j6l7WQ7QnDGj",
        "colab": {
          "base_uri": "https://localhost:8080/",
          "height": 103
        },
        "outputId": "00fc4904-b73e-434e-94d7-22ab5f468b50"
      },
      "execution_count": 71,
      "outputs": [
        {
          "output_type": "execute_result",
          "data": {
            "text/plain": [
              "'              precision    recall  f1-score   support\\n\\n       plane       0.00      0.00      0.00         2\\n         car       1.00      1.00      1.00         1\\n        bird       1.00      0.00      0.00         2\\n         cat       0.00      1.00      0.00         0\\n        deer       0.00      0.00      0.00         2\\n         dog       0.00      0.00      0.00         1\\n        frog       0.00      0.00      0.00         1\\n       horse       0.00      0.00      0.00         2\\n        ship       0.67      0.67      0.67         3\\n       truck       1.00      0.50      0.67         2\\n\\n    accuracy                           0.25        16\\n   macro avg       0.37      0.32      0.23        16\\nweighted avg       0.44      0.25      0.27        16\\n'"
            ],
            "application/vnd.google.colaboratory.intrinsic+json": {
              "type": "string"
            }
          },
          "metadata": {},
          "execution_count": 71
        }
      ]
    }
  ]
}
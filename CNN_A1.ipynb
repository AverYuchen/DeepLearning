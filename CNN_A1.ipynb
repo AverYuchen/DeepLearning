{
  "nbformat": 4,
  "nbformat_minor": 0,
  "metadata": {
    "colab": {
      "provenance": [],
      "gpuType": "T4",
      "include_colab_link": true
    },
    "kernelspec": {
      "name": "python3",
      "display_name": "Python 3"
    },
    "language_info": {
      "name": "python"
    },
    "accelerator": "GPU"
  },
  "cells": [
    {
      "cell_type": "markdown",
      "metadata": {
        "id": "view-in-github",
        "colab_type": "text"
      },
      "source": [
        "<a href=\"https://colab.research.google.com/github/AverYuchen/DeepLearning/blob/main/CNN_A1.ipynb\" target=\"_parent\"><img src=\"https://colab.research.google.com/assets/colab-badge.svg\" alt=\"Open In Colab\"/></a>"
      ]
    },
    {
      "cell_type": "markdown",
      "source": [
        "# CNNs in PyTorch\n",
        "\n",
        "In this assignment, you'll implement some Convolutional Neural Networks (CNNs) in PyTorch."
      ],
      "metadata": {
        "id": "AV9LBf4nBDg_"
      }
    },
    {
      "cell_type": "markdown",
      "source": [
        "## Setting up\n",
        "\n",
        "We'll start by importing the following:\n",
        "- [`torch`](https://pytorch.org/docs/stable/torch.html) - the core PyTorch library.\n",
        "- [`torch.nn`](https://pytorch.org/docs/stable/nn.html) - a module containing building blocks for NNs such as linear layers, convolutional layers, and so on.\n",
        "- [`torch.nn.functional`](https://pytorch.org/docs/stable/nn.functional.html) - a module containing activation functions, loss functions, and so on.\n",
        "- [`torch.optim`](https://pytorch.org/docs/stable/optim.html) - a module containing optimizers which update the parameters of a NN.\n",
        "- [`DataLoader`](https://pytorch.org/docs/stable/data.html#torch.utils.data.DataLoader) in [`torch.utils.data`](https://pytorch.org/docs/stable/data.html) - Can be used to batch data together and iterate over batches, shuffle data, and parallelize the training process to speed it up.\n",
        "- [`MNIST`](https://pytorch.org/vision/stable/generated/torchvision.datasets.MNIST.html) in [`torchvision.datasets`](https://pytorch.org/vision/stable/datasets.html) - The [MNIST dataset](https://en.wikipedia.org/wiki/MNIST_database) is a collection of images of handwritten digits.\n",
        "- [`ToTensor`](https://pytorch.org/vision/stable/generated/torchvision.transforms.ToTensor.html#torchvision.transforms.ToTensor) in [`torchvision.transforms`](https://pytorch.org/vision/0.9/transforms.html) - Converts PIL images or NumPy arrays to PyTorch tensors."
      ],
      "metadata": {
        "id": "ppx9vYd7U9fu"
      }
    },
    {
      "cell_type": "code",
      "source": [
        "# imports\n",
        "import torch\n",
        "import torch.nn as nn\n",
        "import torch.nn.functional as F\n",
        "import torch.optim as optim\n",
        "from torch.utils.data import DataLoader\n",
        "\n",
        "from torchvision.datasets import CIFAR10, MNIST\n",
        "from torchvision.transforms.v2 import ToTensor\n",
        "from torchvision import datasets, transforms"
      ],
      "metadata": {
        "id": "l74HSkVDtdzo"
      },
      "execution_count": 1,
      "outputs": []
    },
    {
      "cell_type": "markdown",
      "source": [
        "## Data\n",
        "\n",
        "Let's define a transformation for the [CIFAR10 dataset](https://en.wikipedia.org/wiki/CIFAR-10).\n",
        "\n",
        "We'll first cast the images to PyTorch tensors using [`transforms.ToTensor()`](https://pytorch.org/vision/master/generated/torchvision.transforms.ToTensor.html). These tensors are automatically normalized such that their values are between 0 and 1.\n",
        "\n",
        "Then, we'll re-normalize the pixel values with [`transforms.Normalize()`](https://pytorch.org/vision/main/generated/torchvision.transforms.Normalize.html) to conform approximately to a standard normal distribution, assuming the mean and standard deviation of any channel of the returned tensor to be 0.5. This is not an unreasonable assumption. It's also a fairly standard thing to do to squash inputs to be in (or close to) the range [-1,1], which is where neural networks work best in terms of converging when performing optimization."
      ],
      "metadata": {
        "id": "pmcSEpkOcA6p"
      }
    },
    {
      "cell_type": "code",
      "source": [
        "# CIFAR-10 transform - three channels, normalize with 3 means and 3 SDs\n",
        "cifar_transform = transforms.Compose([\n",
        "    transforms.ToTensor(),\n",
        "    transforms.Normalize([0.5, 0.5, 0.5], [0.5, 0.5, 0.5])\n",
        "])\n",
        "\n",
        "# MNIST transform - single channel, so only 1 mean and 1 SD\n",
        "mnist_transform = transforms.Compose([\n",
        "    transforms.ToTensor(),\n",
        "    transforms.Normalize((0.1308,), (0.3016,))\n",
        "])"
      ],
      "metadata": {
        "id": "OjvbG0f7hF3N"
      },
      "execution_count": 2,
      "outputs": []
    },
    {
      "cell_type": "code",
      "source": [
        "train_mnist = MNIST(\n",
        "    root='./data',\n",
        "    train=True,\n",
        "    download=True,\n",
        "    transform=mnist_transform\n",
        ")\n",
        "test_mnist = MNIST(\n",
        "    root='./data',\n",
        "    train=False,\n",
        "    download=True,\n",
        "    transform=mnist_transform\n",
        ")"
      ],
      "metadata": {
        "id": "eZDYwqGcv0J3",
        "outputId": "6c6fccdf-3882-4871-9659-d9251041540c",
        "colab": {
          "base_uri": "https://localhost:8080/"
        }
      },
      "execution_count": 3,
      "outputs": [
        {
          "output_type": "stream",
          "name": "stdout",
          "text": [
            "Downloading http://yann.lecun.com/exdb/mnist/train-images-idx3-ubyte.gz\n",
            "Failed to download (trying next):\n",
            "HTTP Error 403: Forbidden\n",
            "\n",
            "Downloading https://ossci-datasets.s3.amazonaws.com/mnist/train-images-idx3-ubyte.gz\n",
            "Downloading https://ossci-datasets.s3.amazonaws.com/mnist/train-images-idx3-ubyte.gz to ./data/MNIST/raw/train-images-idx3-ubyte.gz\n"
          ]
        },
        {
          "output_type": "stream",
          "name": "stderr",
          "text": [
            "100%|██████████| 9912422/9912422 [00:00<00:00, 15247914.65it/s]\n"
          ]
        },
        {
          "output_type": "stream",
          "name": "stdout",
          "text": [
            "Extracting ./data/MNIST/raw/train-images-idx3-ubyte.gz to ./data/MNIST/raw\n",
            "\n",
            "Downloading http://yann.lecun.com/exdb/mnist/train-labels-idx1-ubyte.gz\n",
            "Failed to download (trying next):\n",
            "HTTP Error 403: Forbidden\n",
            "\n",
            "Downloading https://ossci-datasets.s3.amazonaws.com/mnist/train-labels-idx1-ubyte.gz\n",
            "Downloading https://ossci-datasets.s3.amazonaws.com/mnist/train-labels-idx1-ubyte.gz to ./data/MNIST/raw/train-labels-idx1-ubyte.gz\n"
          ]
        },
        {
          "output_type": "stream",
          "name": "stderr",
          "text": [
            "100%|██████████| 28881/28881 [00:00<00:00, 520089.88it/s]\n"
          ]
        },
        {
          "output_type": "stream",
          "name": "stdout",
          "text": [
            "Extracting ./data/MNIST/raw/train-labels-idx1-ubyte.gz to ./data/MNIST/raw\n",
            "\n",
            "Downloading http://yann.lecun.com/exdb/mnist/t10k-images-idx3-ubyte.gz\n",
            "Failed to download (trying next):\n",
            "HTTP Error 403: Forbidden\n",
            "\n",
            "Downloading https://ossci-datasets.s3.amazonaws.com/mnist/t10k-images-idx3-ubyte.gz\n",
            "Downloading https://ossci-datasets.s3.amazonaws.com/mnist/t10k-images-idx3-ubyte.gz to ./data/MNIST/raw/t10k-images-idx3-ubyte.gz\n"
          ]
        },
        {
          "output_type": "stream",
          "name": "stderr",
          "text": [
            "100%|██████████| 1648877/1648877 [00:00<00:00, 3564598.48it/s]\n"
          ]
        },
        {
          "output_type": "stream",
          "name": "stdout",
          "text": [
            "Extracting ./data/MNIST/raw/t10k-images-idx3-ubyte.gz to ./data/MNIST/raw\n",
            "\n",
            "Downloading http://yann.lecun.com/exdb/mnist/t10k-labels-idx1-ubyte.gz\n",
            "Failed to download (trying next):\n",
            "HTTP Error 403: Forbidden\n",
            "\n",
            "Downloading https://ossci-datasets.s3.amazonaws.com/mnist/t10k-labels-idx1-ubyte.gz\n",
            "Downloading https://ossci-datasets.s3.amazonaws.com/mnist/t10k-labels-idx1-ubyte.gz to ./data/MNIST/raw/t10k-labels-idx1-ubyte.gz\n"
          ]
        },
        {
          "output_type": "stream",
          "name": "stderr",
          "text": [
            "100%|██████████| 4542/4542 [00:00<00:00, 2189212.68it/s]\n"
          ]
        },
        {
          "output_type": "stream",
          "name": "stdout",
          "text": [
            "Extracting ./data/MNIST/raw/t10k-labels-idx1-ubyte.gz to ./data/MNIST/raw\n",
            "\n"
          ]
        }
      ]
    },
    {
      "cell_type": "markdown",
      "source": [
        "Let's load up the CIFAR-10 dataset. You can specify the split you want using `train=True|False`. `root` is the directory where the dataset will be saved. You can also directly apply the transform from the previous cell by specifying `transform`."
      ],
      "metadata": {
        "id": "8RI612Kn8jUX"
      }
    },
    {
      "cell_type": "code",
      "source": [
        "from torch.utils.data import random_split\n",
        "# CIFAR10 data\n",
        "train_dataset = CIFAR10(\n",
        "    root='./data',\n",
        "    train=True,\n",
        "    download=True,\n",
        "    transform=cifar_transform\n",
        ")\n",
        "val_dataset = CIFAR10(\n",
        "    root='./data',\n",
        "    train=False,\n",
        "    download=True,\n",
        "    transform=cifar_transform\n",
        ")\n",
        "'''\n",
        "test_dataset = CIFAR10(\n",
        "    root='./data',\n",
        "    train=False,\n",
        "    download=True,\n",
        "    transform=cifar_transform\n",
        ")\n",
        "\n",
        "\n",
        "val_size = 5000\n",
        "test_size = len(test_dataset) - val_size\n",
        "val_dataset, test_dataset = random_split(test_dataset, [val_size, test_size])\n",
        "'''"
      ],
      "metadata": {
        "id": "Ob7JPEEabfTR",
        "colab": {
          "base_uri": "https://localhost:8080/",
          "height": 125
        },
        "outputId": "8d868efb-f52a-4a10-a891-b1fe4541e526"
      },
      "execution_count": 4,
      "outputs": [
        {
          "output_type": "stream",
          "name": "stdout",
          "text": [
            "Downloading https://www.cs.toronto.edu/~kriz/cifar-10-python.tar.gz to ./data/cifar-10-python.tar.gz\n"
          ]
        },
        {
          "output_type": "stream",
          "name": "stderr",
          "text": [
            "100%|██████████| 170498071/170498071 [00:05<00:00, 30121002.86it/s]\n"
          ]
        },
        {
          "output_type": "stream",
          "name": "stdout",
          "text": [
            "Extracting ./data/cifar-10-python.tar.gz to ./data\n",
            "Files already downloaded and verified\n"
          ]
        },
        {
          "output_type": "execute_result",
          "data": {
            "text/plain": [
              "\"\\ntest_dataset = CIFAR10(\\n    root='./data',\\n    train=False,\\n    download=True,\\n    transform=cifar_transform\\n)\\n\\n\\nval_size = 5000\\ntest_size = len(test_dataset) - val_size\\nval_dataset, test_dataset = random_split(test_dataset, [val_size, test_size])\\n\""
            ],
            "application/vnd.google.colaboratory.intrinsic+json": {
              "type": "string"
            }
          },
          "metadata": {},
          "execution_count": 4
        }
      ]
    },
    {
      "cell_type": "markdown",
      "source": [
        "Let's define `DataLoader` objects for the CIFAR10 data now.\n",
        "\n",
        "We'll use a (mini) batch size of 32. It's common to use powers of 2 in deep learning because it's more efficient to handle such numbers on hardware.\n",
        "\n",
        "We'll define separate `DataLoader` objects to handle our training and test splits to avoid data leakage (training on the test set or testing on the train set).\n",
        "\n",
        "We'll also have the `DataLoader` objects shuffle our data whenever we iterate over them (`shuffle=True`). Shuffling data at each epoch is beneficial in that the model won't be optimized in a way that depends on a specific ordering of the data.\n",
        "\n",
        "Finally, we'll parallelize the loading of the data using 4 CPU processes to load data (`num_workers=4`)."
      ],
      "metadata": {
        "id": "lb2XIf19cnsq"
      }
    },
    {
      "cell_type": "code",
      "source": [
        "# dataloaders for MNIST\n",
        "batch_size = 32\n",
        "\n",
        "train_loader_mnist = DataLoader(\n",
        "    train_mnist,\n",
        "    batch_size=batch_size,\n",
        "    shuffle=True,\n",
        "    num_workers=4\n",
        ")\n",
        "\n",
        "val_loader_mnist = DataLoader(\n",
        "    test_mnist,\n",
        "    batch_size=batch_size,\n",
        "    shuffle=True,\n",
        "    num_workers=4\n",
        ")"
      ],
      "metadata": {
        "id": "VrVIt1Lhz2RX",
        "outputId": "3bcda4b1-fece-49ff-dbce-a3cdbc6f3aa8",
        "colab": {
          "base_uri": "https://localhost:8080/"
        }
      },
      "execution_count": 5,
      "outputs": [
        {
          "output_type": "stream",
          "name": "stderr",
          "text": [
            "/usr/local/lib/python3.10/dist-packages/torch/utils/data/dataloader.py:557: UserWarning: This DataLoader will create 4 worker processes in total. Our suggested max number of worker in current system is 2, which is smaller than what this DataLoader is going to create. Please be aware that excessive worker creation might get DataLoader running slow or even freeze, lower the worker number to avoid potential slowness/freeze if necessary.\n",
            "  warnings.warn(_create_warning_msg(\n"
          ]
        }
      ]
    },
    {
      "cell_type": "code",
      "source": [
        "# dataloaders\n",
        "batch_size = 32\n",
        "\n",
        "train_loader = DataLoader(\n",
        "    train_dataset,\n",
        "    batch_size=batch_size,\n",
        "    shuffle=True,\n",
        "    num_workers=4\n",
        ")\n",
        "\n",
        "val_loader = DataLoader(\n",
        "    val_dataset,\n",
        "    batch_size=batch_size,\n",
        "    shuffle=True,\n",
        "    num_workers=4\n",
        ")\n",
        "\n",
        "'''\n",
        "test_loader = DataLoader(\n",
        "    test_dataset,\n",
        "    batch_size=batch_size,\n",
        "    shuffle=True,\n",
        "    num_workers=4\n",
        ")\n",
        "'''"
      ],
      "metadata": {
        "id": "93SCDUnGji8m",
        "colab": {
          "base_uri": "https://localhost:8080/",
          "height": 35
        },
        "outputId": "fd059135-9160-4b7a-a261-39aeafbda08f"
      },
      "execution_count": 6,
      "outputs": [
        {
          "output_type": "execute_result",
          "data": {
            "text/plain": [
              "'\\ntest_loader = DataLoader(\\n    test_dataset,\\n    batch_size=batch_size,\\n    shuffle=True,\\n    num_workers=4\\n)\\n'"
            ],
            "application/vnd.google.colaboratory.intrinsic+json": {
              "type": "string"
            }
          },
          "metadata": {},
          "execution_count": 6
        }
      ]
    },
    {
      "cell_type": "markdown",
      "source": [
        "## Defining and training CNNs\n",
        "\n",
        "We'll define `criterion` to be [`nn.CrossEntropyLoss`](https://pytorch.org/docs/stable/generated/torch.nn.CrossEntropyLoss.html), a common loss function used to train classification models.\n",
        "\n",
        "We'll also define a Stochastic Gradient Descent optmizizer ([`optim.SGD`](https://pytorch.org/docs/stable/generated/torch.optim.SGD.html)), which will optimize the parameters of `net`. We'll set two hyperparameters manually: the learning rate (`lr=0.001`) and the momentum (`momentum=0.9`)."
      ],
      "metadata": {
        "id": "KZpzVZUjcJSi"
      }
    },
    {
      "cell_type": "code",
      "source": [
        "# Loss fuction and optimizer\n",
        "def get_crit_and_opt(net):\n",
        "    criterion = nn.CrossEntropyLoss()\n",
        "    optimizer = optim.SGD(net.parameters(), lr=0.001, momentum=0.9)\n",
        "    return criterion, optimizer"
      ],
      "metadata": {
        "id": "yNEwqv8rkQNM"
      },
      "execution_count": 7,
      "outputs": []
    },
    {
      "cell_type": "markdown",
      "source": [
        "Let's see how [LeNet5](https://ieeexplore.ieee.org/document/726791) (Lecun et al. 1998) is implemented. The architecture looks something like this:"
      ],
      "metadata": {
        "id": "f1kVjROgsGyF"
      }
    },
    {
      "cell_type": "markdown",
      "source": [
        "![](https://drive.google.com/uc?export=view&id=1PwYfmSXqBnosIQi-ewrr03Ibd_lmRtea)"
      ],
      "metadata": {
        "id": "R-mgpop1bcN7"
      }
    },
    {
      "cell_type": "markdown",
      "source": [
        "LeNet5 is compatible with the MNIST dataset. Let's see how to implement the architecture in PyTorch:"
      ],
      "metadata": {
        "id": "aAbXzjDJsrWb"
      }
    },
    {
      "cell_type": "code",
      "source": [
        "class LeNet(nn.Module):\n",
        "\n",
        "    def __init__(self):\n",
        "        super(LeNet, self).__init__()\n",
        "        # 1 input image channel, 6 output channels, 5x5 square convolution\n",
        "        self.conv1 = nn.Conv2d(1, 6, 5)\n",
        "        # 6 input channels to 16 output channels with 5x5 convolution\n",
        "        self.conv2 = nn.Conv2d(6, 16, 5)\n",
        "        # affine operations: y = Wx + b\n",
        "        self.fc1 = nn.Linear(16 * 5 * 5, 120) # 16 channels each of size 5x5 to 1x120 vector\n",
        "        self.fc2 = nn.Linear(120, 84) # 1x120 vector to 1x84 vector\n",
        "        self.fc3 = nn.Linear(84, 10) # 1x84 vector to 1x10 vector\n",
        "\n",
        "    def forward(self, x):\n",
        "        # average pooling over a 2x2 window\n",
        "        x = F.avg_pool2d(F.sigmoid(self.conv1(x)), (2, 2))\n",
        "        # If the size is a square, you can specify with a single number\n",
        "        x = F.avg_pool2d(F.sigmoid(self.conv2(x)), 2)\n",
        "        x = torch.flatten(x, 1) # flatten all dimensions except the batch dimension\n",
        "        x = F.sigmoid(self.fc1(x)) # linear + sig activation\n",
        "        x = F.sigmoid(self.fc2(x)) # linear + sig activation\n",
        "        x = self.fc3(x) # linear\n",
        "        return x"
      ],
      "metadata": {
        "id": "3wg7aZ5PFfem"
      },
      "execution_count": 8,
      "outputs": []
    },
    {
      "cell_type": "markdown",
      "source": [
        "In general, a PyTorch neural network definition must:\n",
        "- subclass [`nn.Module`](https://pytorch.org/docs/stable/generated/torch.nn.Module.html)\n",
        "- call `super().__init__()` in the constructor (`__init__()`) method\n",
        "- define the trainable parameters/layers (convolutions, linears, poolings, etc.) in the constructor\n",
        "- define what should happen to the inputs in the `forward()` method"
      ],
      "metadata": {
        "id": "9BxZoUpss4Pz"
      }
    },
    {
      "cell_type": "code",
      "source": [
        "# Create your own model for the MNIST data here [20 pts]:\n",
        "class CNN_Network1(nn.Module):\n",
        "\n",
        "  def __init__(self):\n",
        "    super(CNN_Network1, self).__init__()\n",
        "    self.conv1 = nn.Conv2d(1, 8, 5)\n",
        "    self.conv2 = nn.Conv2d(8, 22, 5)\n",
        "    self.fc1 = nn.Linear(22*4*4, 125)\n",
        "    self.fc2 = nn.Linear(125, 84)\n",
        "    self.fc3 = nn.Linear(84, 10)\n",
        "  def forward(self, x):\n",
        "    x = F.avg_pool2d(F.sigmoid(self.conv1(x)), (2, 2))\n",
        "    # If the size is a square, you can specify with a single number\n",
        "    x = F.avg_pool2d(F.sigmoid(self.conv2(x)), 2)\n",
        "    x = torch.flatten(x, 1) # flatten all dimensions except the batch dimension\n",
        "    x = F.sigmoid(self.fc1(x)) # linear + sig activation\n",
        "    x = F.sigmoid(self.fc2(x)) # linear + sig activation\n",
        "    x = self.fc3(x) # linear + sig activation\n",
        "    return x"
      ],
      "metadata": {
        "id": "Wdp9RkPobRuC"
      },
      "execution_count": 9,
      "outputs": []
    },
    {
      "cell_type": "code",
      "source": [
        "# Create your own model for the CIFAR10 data here [20 pts]:\n",
        "class CNN_Network2(nn.Module):\n",
        "\n",
        "  def __init__(self):\n",
        "    super(CNN_Network2, self).__init__()\n",
        "    self.conv1 = nn.Conv2d(3, 6, 5)\n",
        "    self.pool = nn.MaxPool2d(2, 2)\n",
        "    self.conv2 = nn.Conv2d(6, 36, 5)\n",
        "    self.fc1 = nn.Linear(36 * 5 * 5, 180)\n",
        "    self.fc2 = nn.Linear(180, 120)\n",
        "    self.fc3 = nn.Linear(120, 84)\n",
        "    self.fc4 = nn.Linear(84, 10)\n",
        "  def forward(self, x):\n",
        "    x = self.pool(F.relu(self.conv1(x)))\n",
        "    x = self.pool(F.relu(self.conv2(x)))\n",
        "    x = x.view(-1, 36 * 5 * 5)\n",
        "    x = F.relu(self.fc1(x))\n",
        "    x = F.relu(self.fc2(x))\n",
        "    x = F.relu(self.fc3(x))\n",
        "    x = self.fc4(x)\n",
        "    return x"
      ],
      "metadata": {
        "id": "Z8GCyZDZ6iPv"
      },
      "execution_count": 10,
      "outputs": []
    },
    {
      "cell_type": "markdown",
      "source": [
        "Below is a useful object for tracking losses/performance during training and dev."
      ],
      "metadata": {
        "id": "pk8hMo_vxzhf"
      }
    },
    {
      "cell_type": "code",
      "source": [
        "class AverageMeter(object):\n",
        "\n",
        "    \"\"\"Computes and stores an average and current value.\"\"\"\n",
        "\n",
        "    def __init__(self):\n",
        "        self.reset()\n",
        "\n",
        "    def reset(self):\n",
        "        self.val = 0\n",
        "        self.avg = 0\n",
        "        self.sum = 0\n",
        "        self.count = 0\n",
        "\n",
        "    def update(self, val, n=1):\n",
        "        self.val = val\n",
        "        self.sum += val * n\n",
        "        self.count += n\n",
        "        self.avg = self.sum / self.count"
      ],
      "metadata": {
        "id": "ar5E7QTSw56k"
      },
      "execution_count": 11,
      "outputs": []
    },
    {
      "cell_type": "markdown",
      "source": [
        "We'll define an accuracy metric that flexibly computes top-k accuracies."
      ],
      "metadata": {
        "id": "Cq2ZTU4-19Hi"
      }
    },
    {
      "cell_type": "code",
      "source": [
        "def error_rate(output, target, topk=(1,)):\n",
        "\n",
        "    \"\"\"Computes the top-k error rate for the specified values of k.\"\"\"\n",
        "\n",
        "    maxk = max(topk) # largest k we'll need to work with\n",
        "    batch_size = target.size(0) # determine batch size\n",
        "\n",
        "    # get maxk best predictions for each item in the batch, both values and indices\n",
        "    _, pred = output.topk(maxk, 1, True, True)\n",
        "\n",
        "    # reshape predictions and targets and compare them element-wise\n",
        "    pred = pred.t()\n",
        "    correct = pred.eq(target.view(1, -1).expand_as(pred))\n",
        "\n",
        "    res = []\n",
        "    for k in topk: # for each top-k accuracy we want\n",
        "\n",
        "        # num correct\n",
        "        correct_k = correct[:k].reshape(-1).float().sum(0, keepdim=True)\n",
        "        # num incorrect\n",
        "        wrong_k = batch_size - correct_k\n",
        "        # as a percentage\n",
        "        res.append(wrong_k.mul_(100.0 / batch_size))\n",
        "\n",
        "    return res"
      ],
      "metadata": {
        "id": "er1n5plIlT86"
      },
      "execution_count": 12,
      "outputs": []
    },
    {
      "cell_type": "markdown",
      "source": [
        "If you connect to a runtime with a T4 available, this line will ensure computations that can be done on the T4 are done there."
      ],
      "metadata": {
        "id": "p15LFjPHx6Wd"
      }
    },
    {
      "cell_type": "code",
      "source": [
        "device = 'cuda' if torch.cuda.is_available() else 'cpu'"
      ],
      "metadata": {
        "id": "Xaru9TTXbAAG"
      },
      "execution_count": 13,
      "outputs": []
    },
    {
      "cell_type": "markdown",
      "source": [
        "The training function below takes the training set's `DataLoader`, the model we are training, the loss function we are using, and the optimizer for this model.\n",
        "\n",
        "It then trains the model on the data for 1 epoch."
      ],
      "metadata": {
        "id": "-8WU1ms3yszg"
      }
    },
    {
      "cell_type": "code",
      "source": [
        "# training function - 1 epoch\n",
        "def train(\n",
        "    train_loader,\n",
        "    model,\n",
        "    criterion,\n",
        "    optimizer,\n",
        "    epoch,\n",
        "    epochs,\n",
        "    print_freq = 100,\n",
        "    verbose = True\n",
        "):\n",
        "\n",
        "    # track average and worst losses\n",
        "    losses = AverageMeter()\n",
        "\n",
        "    # set training mode\n",
        "    model.train()\n",
        "\n",
        "    # iterate over data - automatically shuffled\n",
        "    for i, (images, labels) in enumerate(train_loader):\n",
        "\n",
        "        # put batch of image tensors on GPU\n",
        "        images = images.to(device)\n",
        "        # put batch of label tensors on GPU\n",
        "        labels = labels.to(device)\n",
        "\n",
        "        # zero the parameter gradients\n",
        "        optimizer.zero_grad()\n",
        "\n",
        "        # model output\n",
        "        outputs = model(images)\n",
        "\n",
        "        # loss computation\n",
        "        loss = criterion(outputs, labels)\n",
        "\n",
        "        # back propagation\n",
        "        loss.backward()\n",
        "\n",
        "        # update model parameters\n",
        "        optimizer.step()\n",
        "\n",
        "        # update meter with the value of the loss once for each item in the batch\n",
        "        losses.update(loss.item(), images.size(0))\n",
        "\n",
        "        # logging during epoch\n",
        "        if i % print_freq == 0 and verbose == True:\n",
        "            print(\n",
        "                f'Epoch: [{epoch+1}/{epochs}][{i:4}/{len(train_loader)}]\\t'\n",
        "                f'Loss: {losses.val:.4f} ({losses.avg:.4f} on avg)'\n",
        "            )\n",
        "\n",
        "    # log again at end of epoch\n",
        "    print(f'\\n* Epoch: [{epoch+1}/{epochs}]\\tTrain loss: {losses.avg:.3f}\\n')\n",
        "\n",
        "    return losses.avg"
      ],
      "metadata": {
        "id": "kFMDxaNDlRw0"
      },
      "execution_count": 14,
      "outputs": []
    },
    {
      "cell_type": "code",
      "source": [
        "# val function\n",
        "def validate(\n",
        "    val_loader,\n",
        "    model,\n",
        "    criterion,\n",
        "    epoch,\n",
        "    epochs,\n",
        "    print_freq = 100,\n",
        "    verbose = True\n",
        "):\n",
        "\n",
        "    # track average and worst losses and batch-wise top-1 and top-5 accuracies\n",
        "    losses = AverageMeter()\n",
        "    top1 = AverageMeter()\n",
        "    top5 = AverageMeter()\n",
        "\n",
        "    # set evaluation mode\n",
        "    model.eval()\n",
        "\n",
        "    # iterate over data - automatically shuffled\n",
        "    for i, (images, labels) in enumerate(val_loader):\n",
        "\n",
        "        # put batch of image tensors on GPU\n",
        "        images = images.to(device)\n",
        "        # put batch of label tensors on GPU\n",
        "        labels = labels.to(device)\n",
        "\n",
        "        # model output\n",
        "        output = model(images)\n",
        "\n",
        "        # loss computation\n",
        "        loss = criterion(output, labels)\n",
        "\n",
        "        # top-1 and top-5 accuracy on this batch\n",
        "        err1, err5, = error_rate(output.data, labels, topk=(1, 5))\n",
        "\n",
        "        # update meters with the value of the loss once for each item in the batch\n",
        "        losses.update(loss.item(), images.size(0))\n",
        "        # update meters with top-1 and top-5 accuracy on this batch once for each item in the batch\n",
        "        top1.update(err1.item(), images.size(0))\n",
        "        top5.update(err5.item(), images.size(0))\n",
        "\n",
        "        # logging during epoch\n",
        "        if i % print_freq == 0 and verbose == True:\n",
        "            print(\n",
        "                f'Test (on val set): [{epoch+1}/{epochs}][{i:4}/{len(val_loader)}]\\t'\n",
        "                f'Loss: {losses.val:.4f} ({losses.avg:.4f} on avg)\\t'\n",
        "                f'Top-1 err: {top1.val:.4f} ({top1.avg:.4f} on avg)\\t'\n",
        "                f'Top-5 err: {top5.val:.4f} ({top5.avg:.4f} on avg)'\n",
        "            )\n",
        "\n",
        "    # logging for end of epoch\n",
        "    print(\n",
        "        f'\\n* Epoch: [{epoch+1}/{epochs}]\\t'\n",
        "        f'Test loss: {losses.avg:.3f}\\t'\n",
        "        f'Top-1 err: {top1.avg:.3f}\\t'\n",
        "        f'Top-5 err: {top5.avg:.3f}\\n'\n",
        "    )\n",
        "\n",
        "    # avergae top-1 and top-5 accuracies batch-wise, and average loss batch-wise\n",
        "    return output, labels, top1.avg, top5.avg, losses.avg"
      ],
      "metadata": {
        "id": "DDJnoe7Pu5ez"
      },
      "execution_count": 15,
      "outputs": []
    },
    {
      "cell_type": "code",
      "source": [
        "# best error rates so far\n",
        "best_err1 = 100\n",
        "best_err5 = 100"
      ],
      "metadata": {
        "id": "AKwJjLLU11vg"
      },
      "execution_count": 16,
      "outputs": []
    },
    {
      "cell_type": "code",
      "source": [
        "# Test MNIST Model\n",
        "if __name__ == '__main__':\n",
        "\n",
        "    # select a model to train here\n",
        "    model_mnist = CNN_Network1()\n",
        "\n",
        "    # move to GPU\n",
        "    model_mnist.to(device)\n",
        "\n",
        "    # select number of epochs\n",
        "    epochs = 3\n",
        "\n",
        "    # get criterion and optimizer\n",
        "    criterion, optimizer = get_crit_and_opt(model_mnist)\n",
        "\n",
        "    # epoch loop\n",
        "    for epoch in range(0, epochs):\n",
        "\n",
        "        # train for one epoch\n",
        "        train_loss_mnist = train(\n",
        "          train_loader_mnist,\n",
        "          model_mnist,\n",
        "          criterion,\n",
        "          optimizer,\n",
        "          epoch,\n",
        "          epochs\n",
        "        )\n",
        "\n",
        "        # evaluate on validation set\n",
        "        predictions_mnist, labels_mnist, err1_mnist, err5_mnist, val_loss_mnist = validate(\n",
        "          val_loader_mnist,\n",
        "          model_mnist,\n",
        "          criterion,\n",
        "          epoch,\n",
        "          epochs\n",
        "        )\n",
        "\n",
        "        # remember best prec@1 and save checkpoint\n",
        "        is_best = err1_mnist <= best_err1\n",
        "        best_err1 = min(err1_mnist, best_err1)\n",
        "        if is_best:\n",
        "            best_err5 = err5_mnist\n",
        "\n",
        "        print('Current best error rate (top-1 and top-5 error):', best_err1, best_err5, '\\n')\n",
        "    print('Best error rate (top-1 and top-5 error):', best_err1, best_err5)"
      ],
      "metadata": {
        "id": "p2ES6XLivcTq",
        "outputId": "0f745f8c-0686-4b7d-fa44-10e5385ccce3",
        "colab": {
          "base_uri": "https://localhost:8080/"
        }
      },
      "execution_count": 17,
      "outputs": [
        {
          "output_type": "stream",
          "name": "stdout",
          "text": [
            "Epoch: [1/3][   0/1875]\tLoss: 2.2458 (2.2458 on avg)\n",
            "Epoch: [1/3][ 100/1875]\tLoss: 2.2989 (2.3126 on avg)\n",
            "Epoch: [1/3][ 200/1875]\tLoss: 2.3237 (2.3080 on avg)\n",
            "Epoch: [1/3][ 300/1875]\tLoss: 2.2926 (2.3058 on avg)\n",
            "Epoch: [1/3][ 400/1875]\tLoss: 2.3388 (2.3052 on avg)\n",
            "Epoch: [1/3][ 500/1875]\tLoss: 2.2961 (2.3047 on avg)\n",
            "Epoch: [1/3][ 600/1875]\tLoss: 2.2962 (2.3043 on avg)\n",
            "Epoch: [1/3][ 700/1875]\tLoss: 2.3058 (2.3044 on avg)\n",
            "Epoch: [1/3][ 800/1875]\tLoss: 2.3046 (2.3044 on avg)\n",
            "Epoch: [1/3][ 900/1875]\tLoss: 2.2957 (2.3042 on avg)\n",
            "Epoch: [1/3][1000/1875]\tLoss: 2.2757 (2.3039 on avg)\n",
            "Epoch: [1/3][1100/1875]\tLoss: 2.2916 (2.3039 on avg)\n",
            "Epoch: [1/3][1200/1875]\tLoss: 2.3082 (2.3039 on avg)\n",
            "Epoch: [1/3][1300/1875]\tLoss: 2.3257 (2.3039 on avg)\n",
            "Epoch: [1/3][1400/1875]\tLoss: 2.2965 (2.3039 on avg)\n",
            "Epoch: [1/3][1500/1875]\tLoss: 2.2888 (2.3038 on avg)\n",
            "Epoch: [1/3][1600/1875]\tLoss: 2.3140 (2.3038 on avg)\n",
            "Epoch: [1/3][1700/1875]\tLoss: 2.2791 (2.3037 on avg)\n",
            "Epoch: [1/3][1800/1875]\tLoss: 2.3107 (2.3037 on avg)\n",
            "\n",
            "* Epoch: [1/3]\tTrain loss: 2.304\n",
            "\n",
            "Test (on val set): [1/3][   0/313]\tLoss: 2.3244 (2.3244 on avg)\tTop-1 err: 90.6250 (90.6250 on avg)\tTop-5 err: 62.5000 (62.5000 on avg)\n",
            "Test (on val set): [1/3][ 100/313]\tLoss: 2.2924 (2.3035 on avg)\tTop-1 err: 87.5000 (88.3354 on avg)\tTop-5 err: 43.7500 (49.9072 on avg)\n",
            "Test (on val set): [1/3][ 200/313]\tLoss: 2.3129 (2.3029 on avg)\tTop-1 err: 93.7500 (88.6194 on avg)\tTop-5 err: 65.6250 (49.3937 on avg)\n",
            "Test (on val set): [1/3][ 300/313]\tLoss: 2.3051 (2.3024 on avg)\tTop-1 err: 84.3750 (88.6109 on avg)\tTop-5 err: 62.5000 (48.8268 on avg)\n",
            "\n",
            "* Epoch: [1/3]\tTest loss: 2.302\tTop-1 err: 88.650\tTop-5 err: 48.890\n",
            "\n",
            "Current best error rate (top-1 and top-5 error): 88.65 48.89 \n",
            "\n",
            "Epoch: [2/3][   0/1875]\tLoss: 2.3033 (2.3033 on avg)\n",
            "Epoch: [2/3][ 100/1875]\tLoss: 2.3049 (2.3017 on avg)\n",
            "Epoch: [2/3][ 200/1875]\tLoss: 2.3106 (2.3014 on avg)\n",
            "Epoch: [2/3][ 300/1875]\tLoss: 2.3128 (2.3019 on avg)\n",
            "Epoch: [2/3][ 400/1875]\tLoss: 2.3023 (2.3020 on avg)\n",
            "Epoch: [2/3][ 500/1875]\tLoss: 2.3068 (2.3021 on avg)\n",
            "Epoch: [2/3][ 600/1875]\tLoss: 2.3196 (2.3023 on avg)\n",
            "Epoch: [2/3][ 700/1875]\tLoss: 2.2980 (2.3023 on avg)\n",
            "Epoch: [2/3][ 800/1875]\tLoss: 2.3087 (2.3025 on avg)\n",
            "Epoch: [2/3][ 900/1875]\tLoss: 2.3167 (2.3026 on avg)\n",
            "Epoch: [2/3][1000/1875]\tLoss: 2.2829 (2.3027 on avg)\n",
            "Epoch: [2/3][1100/1875]\tLoss: 2.3063 (2.3028 on avg)\n",
            "Epoch: [2/3][1200/1875]\tLoss: 2.3102 (2.3028 on avg)\n",
            "Epoch: [2/3][1300/1875]\tLoss: 2.3095 (2.3028 on avg)\n",
            "Epoch: [2/3][1400/1875]\tLoss: 2.3009 (2.3028 on avg)\n",
            "Epoch: [2/3][1500/1875]\tLoss: 2.3109 (2.3027 on avg)\n",
            "Epoch: [2/3][1600/1875]\tLoss: 2.3053 (2.3028 on avg)\n",
            "Epoch: [2/3][1700/1875]\tLoss: 2.2993 (2.3028 on avg)\n",
            "Epoch: [2/3][1800/1875]\tLoss: 2.2725 (2.3027 on avg)\n",
            "\n",
            "* Epoch: [2/3]\tTrain loss: 2.303\n",
            "\n",
            "Test (on val set): [2/3][   0/313]\tLoss: 2.3098 (2.3098 on avg)\tTop-1 err: 93.7500 (93.7500 on avg)\tTop-5 err: 56.2500 (56.2500 on avg)\n",
            "Test (on val set): [2/3][ 100/313]\tLoss: 2.3082 (2.3022 on avg)\tTop-1 err: 87.5000 (88.3973 on avg)\tTop-5 err: 59.3750 (49.4431 on avg)\n",
            "Test (on val set): [2/3][ 200/313]\tLoss: 2.3044 (2.3015 on avg)\tTop-1 err: 90.6250 (88.3862 on avg)\tTop-5 err: 50.0000 (48.4453 on avg)\n",
            "Test (on val set): [2/3][ 300/313]\tLoss: 2.2797 (2.3020 on avg)\tTop-1 err: 81.2500 (88.6939 on avg)\tTop-5 err: 37.5000 (48.6815 on avg)\n",
            "\n",
            "* Epoch: [2/3]\tTest loss: 2.302\tTop-1 err: 88.650\tTop-5 err: 48.650\n",
            "\n",
            "Current best error rate (top-1 and top-5 error): 88.65 48.65 \n",
            "\n",
            "Epoch: [3/3][   0/1875]\tLoss: 2.2916 (2.2916 on avg)\n",
            "Epoch: [3/3][ 100/1875]\tLoss: 2.3110 (2.3037 on avg)\n",
            "Epoch: [3/3][ 200/1875]\tLoss: 2.3159 (2.3030 on avg)\n",
            "Epoch: [3/3][ 300/1875]\tLoss: 2.3180 (2.3025 on avg)\n",
            "Epoch: [3/3][ 400/1875]\tLoss: 2.2951 (2.3024 on avg)\n",
            "Epoch: [3/3][ 500/1875]\tLoss: 2.2945 (2.3022 on avg)\n",
            "Epoch: [3/3][ 600/1875]\tLoss: 2.3001 (2.3025 on avg)\n",
            "Epoch: [3/3][ 700/1875]\tLoss: 2.2945 (2.3025 on avg)\n",
            "Epoch: [3/3][ 800/1875]\tLoss: 2.2948 (2.3026 on avg)\n",
            "Epoch: [3/3][ 900/1875]\tLoss: 2.3019 (2.3026 on avg)\n",
            "Epoch: [3/3][1000/1875]\tLoss: 2.3084 (2.3025 on avg)\n",
            "Epoch: [3/3][1100/1875]\tLoss: 2.3251 (2.3025 on avg)\n",
            "Epoch: [3/3][1200/1875]\tLoss: 2.3157 (2.3025 on avg)\n",
            "Epoch: [3/3][1300/1875]\tLoss: 2.3403 (2.3026 on avg)\n",
            "Epoch: [3/3][1400/1875]\tLoss: 2.2822 (2.3025 on avg)\n",
            "Epoch: [3/3][1500/1875]\tLoss: 2.2825 (2.3025 on avg)\n",
            "Epoch: [3/3][1600/1875]\tLoss: 2.3143 (2.3026 on avg)\n",
            "Epoch: [3/3][1700/1875]\tLoss: 2.2912 (2.3025 on avg)\n",
            "Epoch: [3/3][1800/1875]\tLoss: 2.2808 (2.3026 on avg)\n",
            "\n",
            "* Epoch: [3/3]\tTrain loss: 2.303\n",
            "\n",
            "Test (on val set): [3/3][   0/313]\tLoss: 2.2827 (2.2827 on avg)\tTop-1 err: 90.6250 (90.6250 on avg)\tTop-5 err: 37.5000 (37.5000 on avg)\n",
            "Test (on val set): [3/3][ 100/313]\tLoss: 2.3240 (2.3021 on avg)\tTop-1 err: 100.0000 (90.0681 on avg)\tTop-5 err: 56.2500 (47.9270 on avg)\n",
            "Test (on val set): [3/3][ 200/313]\tLoss: 2.3242 (2.3031 on avg)\tTop-1 err: 87.5000 (89.9565 on avg)\tTop-5 err: 59.3750 (48.8961 on avg)\n",
            "Test (on val set): [3/3][ 300/313]\tLoss: 2.3237 (2.3030 on avg)\tTop-1 err: 90.6250 (89.8360 on avg)\tTop-5 err: 59.3750 (48.8268 on avg)\n",
            "\n",
            "* Epoch: [3/3]\tTest loss: 2.303\tTop-1 err: 89.760\tTop-5 err: 48.710\n",
            "\n",
            "Current best error rate (top-1 and top-5 error): 88.65 48.65 \n",
            "\n",
            "Best error rate (top-1 and top-5 error): 88.65 48.65\n"
          ]
        }
      ]
    },
    {
      "cell_type": "code",
      "source": [
        "# Run the main function.\n",
        "if __name__ == '__main__':\n",
        "\n",
        "    # select a model to train here\n",
        "    model = CNN_Network2()\n",
        "\n",
        "    # move to GPU\n",
        "    model.to(device)\n",
        "\n",
        "    # select number of epochs\n",
        "    epochs = 3\n",
        "\n",
        "    # get criterion and optimizer\n",
        "    criterion, optimizer = get_crit_and_opt(model)\n",
        "\n",
        "    # epoch loop\n",
        "    for epoch in range(0, epochs):\n",
        "\n",
        "        # train for one epoch\n",
        "        train_loss = train(\n",
        "          train_loader,\n",
        "          model,\n",
        "          criterion,\n",
        "          optimizer,\n",
        "          epoch,\n",
        "          epochs\n",
        "        )\n",
        "\n",
        "        # evaluate on validation set\n",
        "        predictions, labels, err1, err5, val_loss = validate(\n",
        "          val_loader,\n",
        "          model,\n",
        "          criterion,\n",
        "          epoch,\n",
        "          epochs\n",
        "        )\n",
        "\n",
        "        # remember best prec@1 and save checkpoint\n",
        "        is_best = err1 <= best_err1\n",
        "        best_err1 = min(err1, best_err1)\n",
        "        if is_best:\n",
        "            best_err5 = err5\n",
        "\n",
        "        print('Current best error rate (top-1 and top-5 error):', best_err1, best_err5, '\\n')\n",
        "    print('Best error rate (top-1 and top-5 error):', best_err1, best_err5)"
      ],
      "metadata": {
        "id": "hGxrBqkt0IsB",
        "colab": {
          "base_uri": "https://localhost:8080/"
        },
        "outputId": "820b0e28-678d-4ef2-cac9-204d0a6f39a4"
      },
      "execution_count": 18,
      "outputs": [
        {
          "output_type": "stream",
          "name": "stdout",
          "text": [
            "Epoch: [1/3][   0/1563]\tLoss: 2.3020 (2.3020 on avg)\n",
            "Epoch: [1/3][ 100/1563]\tLoss: 2.3235 (2.3052 on avg)\n",
            "Epoch: [1/3][ 200/1563]\tLoss: 2.2983 (2.3047 on avg)\n",
            "Epoch: [1/3][ 300/1563]\tLoss: 2.3041 (2.3043 on avg)\n",
            "Epoch: [1/3][ 400/1563]\tLoss: 2.2924 (2.3039 on avg)\n",
            "Epoch: [1/3][ 500/1563]\tLoss: 2.3004 (2.3036 on avg)\n",
            "Epoch: [1/3][ 600/1563]\tLoss: 2.3028 (2.3033 on avg)\n",
            "Epoch: [1/3][ 700/1563]\tLoss: 2.2956 (2.3030 on avg)\n",
            "Epoch: [1/3][ 800/1563]\tLoss: 2.2981 (2.3029 on avg)\n",
            "Epoch: [1/3][ 900/1563]\tLoss: 2.3106 (2.3027 on avg)\n",
            "Epoch: [1/3][1000/1563]\tLoss: 2.2987 (2.3025 on avg)\n",
            "Epoch: [1/3][1100/1563]\tLoss: 2.3058 (2.3022 on avg)\n",
            "Epoch: [1/3][1200/1563]\tLoss: 2.3033 (2.3019 on avg)\n",
            "Epoch: [1/3][1300/1563]\tLoss: 2.2944 (2.3016 on avg)\n",
            "Epoch: [1/3][1400/1563]\tLoss: 2.3010 (2.3014 on avg)\n",
            "Epoch: [1/3][1500/1563]\tLoss: 2.2989 (2.3011 on avg)\n",
            "\n",
            "* Epoch: [1/3]\tTrain loss: 2.301\n",
            "\n",
            "Test (on val set): [1/3][   0/313]\tLoss: 2.2977 (2.2977 on avg)\tTop-1 err: 93.7500 (93.7500 on avg)\tTop-5 err: 37.5000 (37.5000 on avg)\n",
            "Test (on val set): [1/3][ 100/313]\tLoss: 2.2951 (2.2950 on avg)\tTop-1 err: 78.1250 (83.2921 on avg)\tTop-5 err: 31.2500 (36.3861 on avg)\n",
            "Test (on val set): [1/3][ 200/313]\tLoss: 2.3019 (2.2948 on avg)\tTop-1 err: 90.6250 (82.6959 on avg)\tTop-5 err: 43.7500 (35.9764 on avg)\n",
            "Test (on val set): [1/3][ 300/313]\tLoss: 2.2987 (2.2949 on avg)\tTop-1 err: 90.6250 (82.5478 on avg)\tTop-5 err: 34.3750 (36.0465 on avg)\n",
            "\n",
            "* Epoch: [1/3]\tTest loss: 2.295\tTop-1 err: 82.540\tTop-5 err: 36.190\n",
            "\n",
            "Current best error rate (top-1 and top-5 error): 82.54 36.19 \n",
            "\n",
            "Epoch: [2/3][   0/1563]\tLoss: 2.3038 (2.3038 on avg)\n",
            "Epoch: [2/3][ 100/1563]\tLoss: 2.2807 (2.2942 on avg)\n",
            "Epoch: [2/3][ 200/1563]\tLoss: 2.2941 (2.2930 on avg)\n",
            "Epoch: [2/3][ 300/1563]\tLoss: 2.2931 (2.2911 on avg)\n",
            "Epoch: [2/3][ 400/1563]\tLoss: 2.2820 (2.2892 on avg)\n",
            "Epoch: [2/3][ 500/1563]\tLoss: 2.2629 (2.2863 on avg)\n",
            "Epoch: [2/3][ 600/1563]\tLoss: 2.2911 (2.2816 on avg)\n",
            "Epoch: [2/3][ 700/1563]\tLoss: 2.2417 (2.2746 on avg)\n",
            "Epoch: [2/3][ 800/1563]\tLoss: 2.1517 (2.2659 on avg)\n",
            "Epoch: [2/3][ 900/1563]\tLoss: 2.1781 (2.2565 on avg)\n",
            "Epoch: [2/3][1000/1563]\tLoss: 2.1134 (2.2460 on avg)\n",
            "Epoch: [2/3][1100/1563]\tLoss: 2.2738 (2.2349 on avg)\n",
            "Epoch: [2/3][1200/1563]\tLoss: 1.9342 (2.2221 on avg)\n",
            "Epoch: [2/3][1300/1563]\tLoss: 2.1567 (2.2094 on avg)\n",
            "Epoch: [2/3][1400/1563]\tLoss: 2.1566 (2.1958 on avg)\n",
            "Epoch: [2/3][1500/1563]\tLoss: 2.0263 (2.1825 on avg)\n",
            "\n",
            "* Epoch: [2/3]\tTrain loss: 2.174\n",
            "\n",
            "Test (on val set): [2/3][   0/313]\tLoss: 1.9242 (1.9242 on avg)\tTop-1 err: 75.0000 (75.0000 on avg)\tTop-5 err: 15.6250 (15.6250 on avg)\n",
            "Test (on val set): [2/3][ 100/313]\tLoss: 2.0085 (1.9777 on avg)\tTop-1 err: 78.1250 (73.1126 on avg)\tTop-5 err: 28.1250 (22.1535 on avg)\n",
            "Test (on val set): [2/3][ 200/313]\tLoss: 1.9964 (1.9672 on avg)\tTop-1 err: 84.3750 (72.0927 on avg)\tTop-5 err: 18.7500 (21.7351 on avg)\n",
            "Test (on val set): [2/3][ 300/313]\tLoss: 1.8884 (1.9605 on avg)\tTop-1 err: 65.6250 (71.7297 on avg)\tTop-5 err: 21.8750 (21.2832 on avg)\n",
            "\n",
            "* Epoch: [2/3]\tTest loss: 1.961\tTop-1 err: 71.680\tTop-5 err: 21.330\n",
            "\n",
            "Current best error rate (top-1 and top-5 error): 71.68 21.33 \n",
            "\n",
            "Epoch: [3/3][   0/1563]\tLoss: 1.9291 (1.9291 on avg)\n",
            "Epoch: [3/3][ 100/1563]\tLoss: 2.0396 (1.9616 on avg)\n",
            "Epoch: [3/3][ 200/1563]\tLoss: 1.9393 (1.9498 on avg)\n",
            "Epoch: [3/3][ 300/1563]\tLoss: 1.8124 (1.9352 on avg)\n",
            "Epoch: [3/3][ 400/1563]\tLoss: 1.7012 (1.9274 on avg)\n",
            "Epoch: [3/3][ 500/1563]\tLoss: 2.1063 (1.9186 on avg)\n",
            "Epoch: [3/3][ 600/1563]\tLoss: 1.9065 (1.9071 on avg)\n",
            "Epoch: [3/3][ 700/1563]\tLoss: 1.9029 (1.9003 on avg)\n",
            "Epoch: [3/3][ 800/1563]\tLoss: 1.5785 (1.8901 on avg)\n",
            "Epoch: [3/3][ 900/1563]\tLoss: 1.9740 (1.8795 on avg)\n",
            "Epoch: [3/3][1000/1563]\tLoss: 1.8304 (1.8670 on avg)\n",
            "Epoch: [3/3][1100/1563]\tLoss: 1.6974 (1.8565 on avg)\n",
            "Epoch: [3/3][1200/1563]\tLoss: 1.7783 (1.8458 on avg)\n",
            "Epoch: [3/3][1300/1563]\tLoss: 1.5744 (1.8338 on avg)\n",
            "Epoch: [3/3][1400/1563]\tLoss: 1.5514 (1.8241 on avg)\n",
            "Epoch: [3/3][1500/1563]\tLoss: 1.4484 (1.8142 on avg)\n",
            "\n",
            "* Epoch: [3/3]\tTrain loss: 1.808\n",
            "\n",
            "Test (on val set): [3/3][   0/313]\tLoss: 1.7490 (1.7490 on avg)\tTop-1 err: 56.2500 (56.2500 on avg)\tTop-5 err: 12.5000 (12.5000 on avg)\n",
            "Test (on val set): [3/3][ 100/313]\tLoss: 1.6483 (1.6874 on avg)\tTop-1 err: 65.6250 (61.4790 on avg)\tTop-5 err: 9.3750 (11.3861 on avg)\n",
            "Test (on val set): [3/3][ 200/313]\tLoss: 1.6812 (1.6776 on avg)\tTop-1 err: 71.8750 (61.9558 on avg)\tTop-5 err: 12.5000 (11.4117 on avg)\n",
            "Test (on val set): [3/3][ 300/313]\tLoss: 1.6805 (1.6700 on avg)\tTop-1 err: 62.5000 (61.8667 on avg)\tTop-5 err: 6.2500 (11.1607 on avg)\n",
            "\n",
            "* Epoch: [3/3]\tTest loss: 1.671\tTop-1 err: 62.010\tTop-5 err: 11.130\n",
            "\n",
            "Current best error rate (top-1 and top-5 error): 62.01 11.13 \n",
            "\n",
            "Best error rate (top-1 and top-5 error): 62.01 11.13\n"
          ]
        }
      ]
    },
    {
      "cell_type": "markdown",
      "source": [
        "Create a SciKit-Learn [classification report](https://scikit-learn.org/stable/modules/generated/sklearn.metrics.classification_report.html) for one of your models.\n",
        "\n",
        "This report will show accuracy, classwise precision, recall, and F1, as well as averaged metrics over the classes."
      ],
      "metadata": {
        "id": "tl1xnaY-m1kX"
      }
    },
    {
      "cell_type": "code",
      "source": [
        "# Create a classification report for one model [10 pts]\n",
        "from sklearn.metrics import classification_report\n",
        "\n",
        "# get the true classes and model predictions for the test set for one model\n",
        "y_true = []\n",
        "y_pred = []\n",
        "target_names = val_dataset.classes\n",
        "_, predicted = torch.max(predictions, 1)  # Get the class with the highest score\n",
        "\n",
        "labelling = list(range(10))\n",
        "\n",
        "# Move predictions and labels to CPU, then convert to NumPy arrays\n",
        "y_true.extend(labels.cpu().numpy())\n",
        "y_pred.extend(predicted.cpu().numpy())\n",
        "\n",
        "#target_names = string names of the classes\n",
        "classification_report(y_true, y_pred, labels = labelling, target_names=target_names, zero_division=1)\n",
        "print(classification_report(y_true, y_pred, labels = labelling,target_names=target_names, zero_division=1))"
      ],
      "metadata": {
        "id": "j6l7WQ7QnDGj",
        "colab": {
          "base_uri": "https://localhost:8080/"
        },
        "outputId": "24f9b874-8620-4d16-d808-af858db94677"
      },
      "execution_count": 23,
      "outputs": [
        {
          "output_type": "stream",
          "name": "stdout",
          "text": [
            "              precision    recall  f1-score   support\n",
            "\n",
            "    airplane       0.67      1.00      0.80         2\n",
            "  automobile       1.00      0.00      0.00         3\n",
            "        bird       1.00      1.00      1.00         0\n",
            "         cat       1.00      0.00      0.00         3\n",
            "        deer       0.00      1.00      0.00         0\n",
            "         dog       1.00      0.00      0.00         3\n",
            "        frog       0.67      1.00      0.80         2\n",
            "       horse       0.00      1.00      0.00         0\n",
            "        ship       1.00      1.00      1.00         1\n",
            "       truck       0.29      1.00      0.44         2\n",
            "\n",
            "    accuracy                           0.44        16\n",
            "   macro avg       0.66      0.70      0.40        16\n",
            "weighted avg       0.83      0.44      0.32        16\n",
            "\n"
          ]
        }
      ]
    }
  ]
}
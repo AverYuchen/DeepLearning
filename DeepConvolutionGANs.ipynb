{
  "nbformat": 4,
  "nbformat_minor": 0,
  "metadata": {
    "colab": {
      "provenance": [],
      "machine_shape": "hm",
      "gpuType": "T4",
      "include_colab_link": true
    },
    "kernelspec": {
      "name": "python3",
      "display_name": "Python 3"
    },
    "language_info": {
      "name": "python"
    },
    "accelerator": "GPU"
  },
  "cells": [
    {
      "cell_type": "markdown",
      "metadata": {
        "id": "view-in-github",
        "colab_type": "text"
      },
      "source": [
        "<a href=\"https://colab.research.google.com/github/AverYuchen/DeepLearning/blob/main/DeepConvolutionGANs.ipynb\" target=\"_parent\"><img src=\"https://colab.research.google.com/assets/colab-badge.svg\" alt=\"Open In Colab\"/></a>"
      ]
    },
    {
      "cell_type": "markdown",
      "source": [
        "# Assignment 3: Generative Adversarial Networks (GANs)"
      ],
      "metadata": {
        "id": "ZFPlMEr4njLe"
      }
    },
    {
      "cell_type": "markdown",
      "source": [
        "Reference Paper: [UNSUPERVISED REPRESENTATION LEARNING WITH DEEP CONVOLUTIONAL GENERATIVE ADVERSARIAL NETWORKS](https://arxiv.org/pdf/1511.06434.pdf)"
      ],
      "metadata": {
        "id": "aOd5ra9iHvy4"
      }
    },
    {
      "cell_type": "markdown",
      "source": [
        "A Generative Adversarial Network (GAN) is a neural network model consisting of two modules, termed the generator $G$ and the discriminator $D$. A GAN is trained using two steps of backpropagation. Step 1: updating the weights of the Discriminator $D$, and step 2: updating the weights of the Generator $G$.\n"
      ],
      "metadata": {
        "id": "u5PKuqERtNb4"
      }
    },
    {
      "cell_type": "markdown",
      "source": [
        "![](https://drive.google.com/uc?export=view&id=1Q4sz0dHkr1v2cm3wdKDEWoHkl9PkBdYx)"
      ],
      "metadata": {
        "id": "pAWU1NkBp39k"
      }
    },
    {
      "cell_type": "markdown",
      "source": [
        "**Step 1: Updating the weights of $D$**\n",
        "\n",
        "We feed the discriminator $D$ some real images ($\\mathbf{x}_{\\text{real}}$) and see what it misclassifies using [Binary Cross Entropy Loss](https://pytorch.org/docs/stable/generated/torch.nn.BCELoss.html):\n",
        "\n",
        "$$\\text{loss}_{\\text{real}} = \\text{BCELoss}\\left(D(\\mathbf{x}_{\\text{real}}), \\mathbf{1}\\right)$$\n",
        "\n",
        "where the loss is computed against $\\mathbf{1}$ (a vector of $1$'s) because the label for all real images is $1$.\n",
        "\n",
        "We do the same thing with fake images, except that the loss is now computed against $\\mathbf{0}$ (a vector of $0$'s) because the label for all fake images is $0$:\n",
        "\n",
        "$$\\text{loss}_{\\text{fake}} = \\text{BCELoss}\\left(D(\\mathbf{x}_{\\text{fake}}), \\mathbf{0}\\right)$$\n",
        "\n",
        "where $\\mathbf{x}_{\\text{fake}} = G(\\mathbf{z})$, with $\\mathbf{z}$ being random noise. That is, the fake images are the outputs of the generator $G$, which has been fed random noise as input. We could therefore write:\n",
        "\n",
        "$$\\text{loss}_{\\text{fake}} = \\text{BCELoss}\\left(D(G(\\mathbf{z})), \\mathbf{0}\\right)$$\n",
        "\n",
        "Importantly, backpropagation ***is not applied*** to the generator $G$ during this phase, and gradients computed do not take the processes of the generator $G$ into account.\n",
        "\n",
        "In PyTorch, this is achieved by calling [`.detach()`](https://pytorch.org/docs/stable/generated/torch.Tensor.detach.html) on $\\mathbf{x}_{\\text{fake}}$. This is done because we want to train the generator $G$ to ***fool*** the discriminator $D$, rather than agree with it. We optimize only the parameters of the discriminator $D$ in this phase. We can also define the total loss as follows:\n",
        "\n",
        "$$\\text{loss}_{\\text{disc}} = \\text{loss}_{\\text{real}} + \\text{loss}_{\\text{fake}}$$\n",
        "\n",
        "The right side of the image can be interpreted as follows.\n",
        "\n",
        "We feed fake images into the discriminator $D$ as before:\n",
        "\n",
        "$$\\text{loss}_{\\text{gen}} = \\text{BCELoss}\\left(D(\\mathbf{x}_{\\text{fake}}), \\mathbf{0}\\right)$$\n",
        "\n",
        "Importantly, backpropagation ***is applied*** to the generator $G$ during this phase (we simply do not call `.detach()` here). This is done because we are now training the generator $G$.\n",
        "\n",
        "We also need to ***flip the sign*** of the gradients before updating the generator $G$, because we again want to ***fool*** the discriminator, rather than produce things it can learn. That is, we need to optimize the generator $G$ so as to cause the discriminator $D$ to make more mistakes. We optimize only the parameters of the generator $G$ in this phase."
      ],
      "metadata": {
        "id": "rDsPESrf8dvg"
      }
    },
    {
      "cell_type": "markdown",
      "source": [
        "**Step 2: Updating the weights of $G$**\n",
        "\n",
        "One way to update the weights of $G$ is to flip the gradients (*-1) resulting from backpropagating through the discriminator and backpropagate through the generator, as depicted in the right side of the above figure.\n",
        "\n",
        "**Another way, that is easier to implement in PyTorch, that we will implement in this assignment, is explained below:**\n",
        "\n",
        "Rather than flipping the sign of the gradients, we simply compute\n",
        "\n",
        "$$\\text{loss}_{\\text{gen}} = \\text{BCELoss}\\left(D(\\mathbf{x}_{\\text{fake}}), \\mathbf{1}\\right)$$\n",
        "\n",
        "Importantly, we are computing the loss against $\\mathbf{1}$ ***rather than*** $\\mathbf{0}$.\n",
        "\n",
        "It is worth thinking for a moment about why this works. We are asking the discriminator $D$ whether the images are real or fake, but of course all the images $\\mathbf{x}_{\\text{fake}} = G(\\mathbf{z})$ are fake. If the discriminator $D$ were perfect, it would predict $0$ (fake) for everything.\n",
        "\n",
        "This is precisely the opposite of what we want for the generator $G$, because it means the generator $G$ is not fooling the discriminator $D$ at all, and so the loss will be large in this situation.\n",
        "\n",
        "Conversely, if the discriminator $D$ predicts $1$ for everything, we don't need to update the generator $G$ at all, because it has fooled the discriminator $D$ into classifying all the fake images as real.\n",
        "\n",
        "This is the implementation we will use."
      ],
      "metadata": {
        "id": "zWFzPn63VkhR"
      }
    },
    {
      "cell_type": "markdown",
      "source": [
        "## Imports and Data"
      ],
      "metadata": {
        "id": "DuygmQUZkt-H"
      }
    },
    {
      "cell_type": "markdown",
      "source": [
        "Imports, including `numpy` and `matplotlib.pyplot` for displaying images."
      ],
      "metadata": {
        "id": "aaos7Gm2aACz"
      }
    },
    {
      "cell_type": "code",
      "execution_count": null,
      "metadata": {
        "id": "LyXv51TQ8j1H"
      },
      "outputs": [],
      "source": [
        "import argparse\n",
        "import os\n",
        "import math\n",
        "\n",
        "import numpy as np\n",
        "import matplotlib.pyplot as plt\n",
        "\n",
        "import torchvision.transforms as transforms\n",
        "from torchvision.utils import save_image\n",
        "\n",
        "from torch.utils.data import DataLoader\n",
        "from torch.autograd import Variable\n",
        "from torchvision.datasets import MNIST, CelebA\n",
        "import torchvision.utils as vutils\n",
        "\n",
        "from torch import nn\n",
        "import torch.nn.functional as F\n",
        "import torch\n",
        "device = 'cuda' if torch.cuda.is_available() else 'cpu'"
      ]
    },
    {
      "cell_type": "markdown",
      "source": [
        "Let's load and transform the [MNIST dataset](https://pytorch.org/vision/main/generated/torchvision.datasets.MNIST.html) and wrap it in a [DataLoader](https://pytorch.org/docs/stable/data.html#torch.utils.data.DataLoader). We'll also apply a [transform](https://pytorch.org/vision/0.11/transforms.html):\n",
        "- [torchvision.transforms.ToTensor](https://pytorch.org/vision/0.11/transforms.html#torchvision.transforms.ToTensor)\n",
        "- [torchvision.transforms.Resize](https://pytorch.org/vision/0.11/transforms.html#torchvision.transforms.Resize)\n",
        "- [torchvision.transforms.Normalize](https://pytorch.org/vision/0.11/transforms.html#torchvision.transforms.Normalize)"
      ],
      "metadata": {
        "id": "Jm8TTHFXlQsw"
      }
    },
    {
      "cell_type": "code",
      "source": [
        "img_size = 28\n",
        "traindataset = MNIST(\n",
        "    root='./data',\n",
        "    train=True,\n",
        "    download=True,\n",
        "    transform=transforms.Compose([\n",
        "        transforms.ToTensor(),\n",
        "        transforms.Resize([img_size, img_size]),\n",
        "        transforms.Normalize((0.5,), (0.5,))\n",
        "    ])\n",
        ")"
      ],
      "metadata": {
        "id": "NMFRmENc9d3x"
      },
      "execution_count": null,
      "outputs": []
    },
    {
      "cell_type": "code",
      "source": [
        "batch_size = 64\n",
        "trainloader = DataLoader(\n",
        "    traindataset,\n",
        "    batch_size=batch_size,\n",
        "    shuffle=True,\n",
        "    num_workers=4,\n",
        "    drop_last=True,\n",
        ")"
      ],
      "metadata": {
        "id": "bxjKR10q9mxI"
      },
      "execution_count": null,
      "outputs": []
    },
    {
      "cell_type": "markdown",
      "source": [
        "## Defining a Generator and a Discriminator"
      ],
      "metadata": {
        "id": "a5ylqyd8k0uP"
      }
    },
    {
      "cell_type": "code",
      "source": [
        "latent_dim = 100\n",
        "channels = 1"
      ],
      "metadata": {
        "id": "W5XTySGcuSbS"
      },
      "execution_count": null,
      "outputs": []
    },
    {
      "cell_type": "markdown",
      "source": [
        "Let's define the generator $G$. Some useful documentation:\n",
        "- [torch.nn.ConvTranspose2d](https://pytorch.org/docs/stable/generated/torch.nn.ConvTranspose2d.html) - we are upsampling from a lower dimensionality to a higher one.\n",
        "- [torch.nn.BatchNorm2d](https://pytorch.org/docs/stable/generated/torch.nn.BatchNorm2d.html)\n",
        "- [torch.nn.ReLU](https://pytorch.org/docs/stable/generated/torch.nn.ReLU.html)\n",
        "- [torch.nn.Tanh](https://pytorch.org/docs/stable/generated/torch.nn.Tanh.html)"
      ],
      "metadata": {
        "id": "TMNvkOYdaD6z"
      }
    },
    {
      "cell_type": "code",
      "source": [
        "class Generator(nn.Module):\n",
        "    def __init__(self):\n",
        "        super(Generator, self).__init__()\n",
        "        self.main = nn.Sequential(\n",
        "            nn.ConvTranspose2d(100, 64 * 8, 4, 1, 0, bias=False),\n",
        "            nn.BatchNorm2d(64 * 8),\n",
        "            nn.ReLU(True),\n",
        "            nn.ConvTranspose2d(64 * 8, 64 * 4, 4, 2, 1, bias=False),\n",
        "            nn.BatchNorm2d(64 * 4),\n",
        "            nn.ReLU(True),\n",
        "            nn.ConvTranspose2d(64 * 4, 64 * 2, 4, 2, 1, bias=False),\n",
        "            nn.BatchNorm2d(64 * 2),\n",
        "            nn.ReLU(True),\n",
        "            nn.ConvTranspose2d(64 * 2, 64, 4, 2, 1, bias=False),\n",
        "            nn.BatchNorm2d(64),\n",
        "            nn.ReLU(True),\n",
        "            nn.ConvTranspose2d(64, 1, kernel_size=1, stride=1, padding=2, bias=False),\n",
        "            nn.Tanh()\n",
        "        )\n",
        "\n",
        "    def forward(self, input):\n",
        "        output = self.main(input)\n",
        "        return output\n"
      ],
      "metadata": {
        "id": "n0C0BntbS02o"
      },
      "execution_count": null,
      "outputs": []
    },
    {
      "cell_type": "markdown",
      "source": [
        "Let's also define the discriminator $D$. Some useful documentation:\n",
        "- [torch.nn.Conv2d](https://pytorch.org/docs/stable/generated/torch.nn.Conv2d.html)\n",
        "- [torch.nn.BatchNorm2d](https://pytorch.org/docs/stable/generated/torch.nn.BatchNorm2d.html)\n",
        "- [torch.nn.LeakyReLU](https://pytorch.org/docs/stable/generated/torch.nn.LeakyReLU.html)\n",
        "- [torch.nn.Sigmoid](https://pytorch.org/docs/stable/generated/torch.nn.Sigmoid.html)"
      ],
      "metadata": {
        "id": "LHcqS6i4aIFB"
      }
    },
    {
      "cell_type": "code",
      "source": [
        "class Discriminator(nn.Module):\n",
        "    def __init__(self):\n",
        "        super(Discriminator, self).__init__()\n",
        "        self.main = nn.Sequential(\n",
        "            nn.Conv2d(1, 64, 4, 2, 1, bias=False),\n",
        "            nn.LeakyReLU(0.2, inplace=True),\n",
        "            nn.Conv2d(64, 64 * 2, 4, 2, 1, bias=False),\n",
        "            nn.BatchNorm2d(64 * 2),\n",
        "            nn.LeakyReLU(0.2, inplace=True),\n",
        "            nn.Conv2d(64 * 2, 64 * 4, 4, 2, 1, bias=False),\n",
        "            nn.BatchNorm2d(64 * 4),\n",
        "            nn.LeakyReLU(0.2, inplace=True),\n",
        "            nn.Conv2d(64 * 4, 1, 4, 2, 1, bias=False),\n",
        "            nn.Sigmoid()\n",
        "        )\n",
        "\n",
        "    def forward(self, input):\n",
        "        output = self.main(input)\n",
        "        return output.view(-1, 1)"
      ],
      "metadata": {
        "id": "vcJ1MGos9FY9"
      },
      "execution_count": null,
      "outputs": []
    },
    {
      "cell_type": "markdown",
      "source": [
        "We'll use a [torch.nn.init.normal_](https://pytorch.org/docs/stable/nn.init.html#torch.nn.init.normal_) initialization for most weights, but we'll initialize bias terms to be 0 (a common practice) with [torch.nn.init.constant_](https://pytorch.org/docs/stable/nn.init.html#torch.nn.init.constant_):"
      ],
      "metadata": {
        "id": "rFCWRwuubewi"
      }
    },
    {
      "cell_type": "code",
      "source": [
        "def weights_init(m):\n",
        "    class_name = m.__class__.__name__\n",
        "    if 'Conv' in class_name: # conv weights near 0\n",
        "        nn.init.normal_(m.weight.data, 0.0, 0.02)\n",
        "    elif 'BatchNorm' in class_name: # norm weights near 1\n",
        "        nn.init.normal_(m.weight.data, 1.0, 0.02)\n",
        "        nn.init.constant_(m.bias.data, 0)"
      ],
      "metadata": {
        "id": "vZOX5lrQP0hJ"
      },
      "execution_count": null,
      "outputs": []
    },
    {
      "cell_type": "markdown",
      "source": [
        "We can now initialize both components of the GAN, and apply our custom weight initialization:"
      ],
      "metadata": {
        "id": "G_5HhzLNb4As"
      }
    },
    {
      "cell_type": "code",
      "source": [
        "generator = Generator().to(device)\n",
        "discriminator = Discriminator().to(device)\n",
        "\n",
        "generator.apply(weights_init)\n",
        "discriminator.apply(weights_init)"
      ],
      "metadata": {
        "id": "i0NGVHB-b2ir"
      },
      "execution_count": null,
      "outputs": []
    },
    {
      "cell_type": "markdown",
      "source": [
        "Now we'll define the loss function ([torch.nn.BCELoss](https://pytorch.org/docs/stable/generated/torch.nn.BCELoss.html)) and the optimizer ([torch.optim.Adam](https://pytorch.org/docs/stable/generated/torch.optim.Adam.html))."
      ],
      "metadata": {
        "id": "m0D3nowcbo0D"
      }
    },
    {
      "cell_type": "code",
      "source": [
        "adversarial_loss = torch.nn.BCELoss()\n",
        "\n",
        "optim_gen = torch.optim.Adam(\n",
        "    generator.parameters(),\n",
        "    lr=0.0002,\n",
        "    betas = (0.5, 0.999)\n",
        ")\n",
        "optim_disc = torch.optim.Adam(\n",
        "    discriminator.parameters(),\n",
        "    lr=0.0002,\n",
        "    betas = (0.5, 0.999)\n",
        ")"
      ],
      "metadata": {
        "id": "aJN-Kj519sFg"
      },
      "execution_count": null,
      "outputs": []
    },
    {
      "cell_type": "code",
      "source": [
        "print(generator)"
      ],
      "metadata": {
        "id": "osZU0X0tQMHB"
      },
      "execution_count": null,
      "outputs": []
    },
    {
      "cell_type": "code",
      "source": [
        "print(discriminator)"
      ],
      "metadata": {
        "id": "A_HrH5jlQQ-d"
      },
      "execution_count": null,
      "outputs": []
    },
    {
      "cell_type": "markdown",
      "source": [
        "## Training the Generator and Discriminator together"
      ],
      "metadata": {
        "id": "tUtoMe_8nnDU"
      }
    },
    {
      "cell_type": "markdown",
      "source": [
        "**Q1. [40 points]** Complete the `train_mnist` function to include training of the Discriminator (20 points) and the Generator (20 points)."
      ],
      "metadata": {
        "id": "TJgTyvppk-7D"
      }
    },
    {
      "cell_type": "code",
      "source": [
        "# torch.manual_seed(42) # seeds random number generation for reproducibility\n",
        "fixed_noise = torch.randn(batch_size, latent_dim, 1, 1, device=device)\n",
        "num_epochs = 5\n",
        "\n",
        "img_list = []\n",
        "\n",
        "def train_mnist():\n",
        "    iters = 0 # total number of batches seen by the models\n",
        "    for epoch in range(num_epochs):\n",
        "\n",
        "        # ensure training mode\n",
        "        discriminator.train()\n",
        "        generator.train()\n",
        "\n",
        "        for idx, (imgs, _) in enumerate(trainloader):\n",
        "\n",
        "            # adversarial ground truths\n",
        "            # 0 = fake, 1 = real\n",
        "            real_labels = torch.full(\n",
        "                [imgs.size(0), 1], # vector of size batch_size X 1\n",
        "                1.0,               # filled with 1's\n",
        "                dtype=imgs.dtype   # ensure float32\n",
        "            ).to(device)\n",
        "\n",
        "            fake_labels = torch.full(\n",
        "                [imgs.size(0), 1], # vector of size batch_size X 1\n",
        "                0.0,               # filled with 0's\n",
        "                dtype=imgs.dtype   # ensure float32\n",
        "            ).to(device)\n",
        "\n",
        "            # ---- TODO 1a) ----\n",
        "            \"\"\"TRAIN DISCRIMINATOR\"\"\"\n",
        "\n",
        "\n",
        "\n",
        "\n",
        "\n",
        "\n",
        "\n",
        "\n",
        "\n",
        "\n",
        "\n",
        "\n",
        "            # ---- TODO 1b) ----\n",
        "            \"\"\"TRAIN GENERATOR\"\"\"\n",
        "\n",
        "\n",
        "\n",
        "\n",
        "\n",
        "\n",
        "\n",
        "\n",
        "\n",
        "\n",
        "\n",
        "\n",
        "\n",
        "            # logging\n",
        "            if idx % 50 == 0:\n",
        "                print(\n",
        "                    f'[{epoch:4d}/{num_epochs}][{idx:3d}/{len(trainloader)}]\\t'\n",
        "                    f'Loss_Discriminator: {disc_loss.item():.4f}\\t'\n",
        "                    f'Loss_Generator: {gen_loss.item():.4f}'\n",
        "                )\n",
        "\n",
        "            # plot the real images and the generations for comparison\n",
        "            if idx % 100 == 0:\n",
        "              fake = generator(fixed_noise)\n",
        "              img_list.append(vutils.make_grid(fake, padding=2, normalize=True))\n",
        "\n",
        "    # Plot the real images\n",
        "    plt.figure(figsize=(15,15))\n",
        "    plt.subplot(1,2,1)\n",
        "    plt.axis(\"off\")\n",
        "    plt.title(\"Real Images\")\n",
        "    plt.imshow(np.transpose(vutils.make_grid(imgs.to(device)[:64], padding=5, normalize=True).cpu(),(1,2,0)))\n",
        "\n",
        "    # Plot the fake images from the last epoch\n",
        "    plt.subplot(1,2,2)\n",
        "    plt.axis(\"off\")\n",
        "    plt.title(\"Fake Images\")\n",
        "    plt.imshow(np.transpose(img_list[-1].cpu(),(1,2,0)))\n",
        "    plt.show()"
      ],
      "metadata": {
        "id": "S5uBnXi2474T"
      },
      "execution_count": null,
      "outputs": []
    },
    {
      "cell_type": "code",
      "source": [
        "# run the training function for the MNIST data\n",
        "train_mnist()"
      ],
      "metadata": {
        "id": "e_XPBPUW-P6d"
      },
      "execution_count": null,
      "outputs": []
    },
    {
      "cell_type": "markdown",
      "source": [
        "**Q2. [4 points]**  For a training dataset D = {$𝑥_{𝑖}, 𝑦_{𝑖}$} where $𝑥_{𝑖}$ are the inputs and $𝑦_{𝑖}$ are the output, explain the difference between discriminative and generative classification models.\n"
      ],
      "metadata": {
        "id": "zrZX9YE-ELe8"
      }
    },
    {
      "cell_type": "markdown",
      "source": [
        "---- TODO Q2 ----"
      ],
      "metadata": {
        "id": "IpxbcoBiOMXq"
      }
    },
    {
      "cell_type": "markdown",
      "source": [
        "**Q3. [6 points]** The following is a figure of a *conditional* GAN. Give one example of a conditional GAN application, explain what it is conditioned on, and how it works. Your answer should be based on a brief survey/research of conditional GANs.\n",
        "\n",
        "![CGAN.png](data:image/png;base64,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)\n"
      ],
      "metadata": {
        "id": "IxewoFyqKzC8"
      }
    },
    {
      "cell_type": "markdown",
      "source": [
        "---- TODO Q3 ----"
      ],
      "metadata": {
        "id": "44785VFhOUOc"
      }
    },
    {
      "cell_type": "markdown",
      "source": [
        "## Optional: CelebA Dataset"
      ],
      "metadata": {
        "id": "D6uzJyQsnvd0"
      }
    },
    {
      "cell_type": "markdown",
      "source": [
        "The [CelebA dataset](https://pytorch.org/vision/main/generated/torchvision.datasets.CelebA.html), introduced in [Liu et al. (2015)](https://arxiv.org/pdf/1411.7766v3.pdf) may also be interesting to generate face images, but bear in mind it will take a lot longer to run. Some code is included below to load and transform it, should you be curious."
      ],
      "metadata": {
        "id": "ZbbBdM53g7bA"
      }
    },
    {
      "cell_type": "code",
      "source": [
        "# # load and transform CelebA\n",
        "# image_size = 64\n",
        "# celeb_a_dataset = CelebA(\n",
        "#     root='./data',\n",
        "#     train=True,\n",
        "#     download=True,\n",
        "#     transform=transforms.Compose(\n",
        "#         [\n",
        "#           transforms.Resize(image_size),\n",
        "#           transforms.CenterCrop(image_size),\n",
        "#           transforms.ToTensor(),\n",
        "#           transforms.Normalize((0.5, 0.5, 0.5), (0.5, 0.5, 0.5)),\n",
        "#         ]\n",
        "#     )\n",
        "# )"
      ],
      "metadata": {
        "id": "nXnAHrzJD1Sd"
      },
      "execution_count": null,
      "outputs": []
    },
    {
      "cell_type": "code",
      "source": [
        "# # wrap CelebA data in a DataLoader\n",
        "# batch_size = 64\n",
        "# trainloader = torch.utils.data.DataLoader(\n",
        "#     celeb_a_dataset,\n",
        "#     batch_size=batch_size,\n",
        "#     shuffle=True,\n",
        "#     num_workers=workers,\n",
        "#     drop_last=True\n",
        "# )"
      ],
      "metadata": {
        "id": "yCNwgtsvDiwA"
      },
      "execution_count": null,
      "outputs": []
    }
  ]
}